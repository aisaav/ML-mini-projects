{
 "cells": [
  {
   "cell_type": "markdown",
   "metadata": {},
   "source": [
    "# Standardize data using the Scale Function\n",
    "\n",
    "In the previous notebook we standardized the data manually by subtracting the mean and dividing it by the standard deviation. Nowe we will use scikit learn's preprocessing functions and estimators to perform standardization for us.\n",
    "- Standardscaler and scale funtion perform the same standardization\n",
    "- Estimator function can also be used to  calculate the mean and variance values in one data set and use those values to standardize another data set\n",
    "\n",
    "We will be used the absenteeism data set for this notebook as well"
   ]
  },
  {
   "cell_type": "code",
   "execution_count": 1,
   "metadata": {},
   "outputs": [],
   "source": [
    "import pandas as pd\n",
    "import numpy as np\n",
    "\n",
    "import math\n",
    "\n",
    "from sklearn.preprocessing import StandardScaler, scale"
   ]
  },
  {
   "cell_type": "code",
   "execution_count": 2,
   "metadata": {},
   "outputs": [],
   "source": [
    "data = pd.read_csv('Datasets/absenteeism_processed.csv')"
   ]
  },
  {
   "cell_type": "code",
   "execution_count": 3,
   "metadata": {},
   "outputs": [
    {
     "data": {
      "text/html": [
       "<div>\n",
       "<style scoped>\n",
       "    .dataframe tbody tr th:only-of-type {\n",
       "        vertical-align: middle;\n",
       "    }\n",
       "\n",
       "    .dataframe tbody tr th {\n",
       "        vertical-align: top;\n",
       "    }\n",
       "\n",
       "    .dataframe thead th {\n",
       "        text-align: right;\n",
       "    }\n",
       "</style>\n",
       "<table border=\"1\" class=\"dataframe\">\n",
       "  <thead>\n",
       "    <tr style=\"text-align: right;\">\n",
       "      <th></th>\n",
       "      <th>Transportation</th>\n",
       "      <th>Distance</th>\n",
       "      <th>Service</th>\n",
       "      <th>Age</th>\n",
       "      <th>Workload</th>\n",
       "      <th>Weight</th>\n",
       "      <th>Height</th>\n",
       "      <th>BMI</th>\n",
       "      <th>AbsentHours</th>\n",
       "    </tr>\n",
       "  </thead>\n",
       "  <tbody>\n",
       "    <tr>\n",
       "      <th>0</th>\n",
       "      <td>289.0</td>\n",
       "      <td>36.0</td>\n",
       "      <td>13.0</td>\n",
       "      <td>33.0</td>\n",
       "      <td>239.554</td>\n",
       "      <td>90.0</td>\n",
       "      <td>172.0</td>\n",
       "      <td>30.0</td>\n",
       "      <td>4.0</td>\n",
       "    </tr>\n",
       "    <tr>\n",
       "      <th>1</th>\n",
       "      <td>118.0</td>\n",
       "      <td>13.0</td>\n",
       "      <td>18.0</td>\n",
       "      <td>50.0</td>\n",
       "      <td>239.554</td>\n",
       "      <td>98.0</td>\n",
       "      <td>178.0</td>\n",
       "      <td>31.0</td>\n",
       "      <td>0.0</td>\n",
       "    </tr>\n",
       "    <tr>\n",
       "      <th>2</th>\n",
       "      <td>179.0</td>\n",
       "      <td>51.0</td>\n",
       "      <td>18.0</td>\n",
       "      <td>38.0</td>\n",
       "      <td>239.554</td>\n",
       "      <td>89.0</td>\n",
       "      <td>170.0</td>\n",
       "      <td>31.0</td>\n",
       "      <td>2.0</td>\n",
       "    </tr>\n",
       "    <tr>\n",
       "      <th>3</th>\n",
       "      <td>279.0</td>\n",
       "      <td>5.0</td>\n",
       "      <td>14.0</td>\n",
       "      <td>39.0</td>\n",
       "      <td>239.554</td>\n",
       "      <td>68.0</td>\n",
       "      <td>168.0</td>\n",
       "      <td>24.0</td>\n",
       "      <td>4.0</td>\n",
       "    </tr>\n",
       "    <tr>\n",
       "      <th>4</th>\n",
       "      <td>289.0</td>\n",
       "      <td>36.0</td>\n",
       "      <td>13.0</td>\n",
       "      <td>33.0</td>\n",
       "      <td>239.554</td>\n",
       "      <td>90.0</td>\n",
       "      <td>172.0</td>\n",
       "      <td>30.0</td>\n",
       "      <td>2.0</td>\n",
       "    </tr>\n",
       "    <tr>\n",
       "      <th>5</th>\n",
       "      <td>179.0</td>\n",
       "      <td>51.0</td>\n",
       "      <td>18.0</td>\n",
       "      <td>38.0</td>\n",
       "      <td>239.554</td>\n",
       "      <td>89.0</td>\n",
       "      <td>170.0</td>\n",
       "      <td>31.0</td>\n",
       "      <td>2.0</td>\n",
       "    </tr>\n",
       "    <tr>\n",
       "      <th>6</th>\n",
       "      <td>361.0</td>\n",
       "      <td>52.0</td>\n",
       "      <td>3.0</td>\n",
       "      <td>28.0</td>\n",
       "      <td>239.554</td>\n",
       "      <td>80.0</td>\n",
       "      <td>172.0</td>\n",
       "      <td>27.0</td>\n",
       "      <td>8.0</td>\n",
       "    </tr>\n",
       "    <tr>\n",
       "      <th>7</th>\n",
       "      <td>260.0</td>\n",
       "      <td>50.0</td>\n",
       "      <td>11.0</td>\n",
       "      <td>36.0</td>\n",
       "      <td>239.554</td>\n",
       "      <td>65.0</td>\n",
       "      <td>168.0</td>\n",
       "      <td>23.0</td>\n",
       "      <td>4.0</td>\n",
       "    </tr>\n",
       "    <tr>\n",
       "      <th>8</th>\n",
       "      <td>155.0</td>\n",
       "      <td>12.0</td>\n",
       "      <td>14.0</td>\n",
       "      <td>34.0</td>\n",
       "      <td>239.554</td>\n",
       "      <td>95.0</td>\n",
       "      <td>196.0</td>\n",
       "      <td>25.0</td>\n",
       "      <td>40.0</td>\n",
       "    </tr>\n",
       "    <tr>\n",
       "      <th>9</th>\n",
       "      <td>235.0</td>\n",
       "      <td>11.0</td>\n",
       "      <td>14.0</td>\n",
       "      <td>37.0</td>\n",
       "      <td>239.554</td>\n",
       "      <td>88.0</td>\n",
       "      <td>172.0</td>\n",
       "      <td>29.0</td>\n",
       "      <td>8.0</td>\n",
       "    </tr>\n",
       "  </tbody>\n",
       "</table>\n",
       "</div>"
      ],
      "text/plain": [
       "   Transportation  Distance  Service   Age  Workload  Weight  Height   BMI  \\\n",
       "0           289.0      36.0     13.0  33.0   239.554    90.0   172.0  30.0   \n",
       "1           118.0      13.0     18.0  50.0   239.554    98.0   178.0  31.0   \n",
       "2           179.0      51.0     18.0  38.0   239.554    89.0   170.0  31.0   \n",
       "3           279.0       5.0     14.0  39.0   239.554    68.0   168.0  24.0   \n",
       "4           289.0      36.0     13.0  33.0   239.554    90.0   172.0  30.0   \n",
       "5           179.0      51.0     18.0  38.0   239.554    89.0   170.0  31.0   \n",
       "6           361.0      52.0      3.0  28.0   239.554    80.0   172.0  27.0   \n",
       "7           260.0      50.0     11.0  36.0   239.554    65.0   168.0  23.0   \n",
       "8           155.0      12.0     14.0  34.0   239.554    95.0   196.0  25.0   \n",
       "9           235.0      11.0     14.0  37.0   239.554    88.0   172.0  29.0   \n",
       "\n",
       "   AbsentHours  \n",
       "0          4.0  \n",
       "1          0.0  \n",
       "2          2.0  \n",
       "3          4.0  \n",
       "4          2.0  \n",
       "5          2.0  \n",
       "6          8.0  \n",
       "7          4.0  \n",
       "8         40.0  \n",
       "9          8.0  "
      ]
     },
     "execution_count": 3,
     "metadata": {},
     "output_type": "execute_result"
    }
   ],
   "source": [
    "data.head(10)"
   ]
  },
  {
   "cell_type": "code",
   "execution_count": 4,
   "metadata": {},
   "outputs": [
    {
     "data": {
      "text/html": [
       "<div>\n",
       "<style scoped>\n",
       "    .dataframe tbody tr th:only-of-type {\n",
       "        vertical-align: middle;\n",
       "    }\n",
       "\n",
       "    .dataframe tbody tr th {\n",
       "        vertical-align: top;\n",
       "    }\n",
       "\n",
       "    .dataframe thead th {\n",
       "        text-align: right;\n",
       "    }\n",
       "</style>\n",
       "<table border=\"1\" class=\"dataframe\">\n",
       "  <thead>\n",
       "    <tr style=\"text-align: right;\">\n",
       "      <th></th>\n",
       "      <th>Transportation</th>\n",
       "      <th>Distance</th>\n",
       "      <th>Service</th>\n",
       "      <th>Age</th>\n",
       "      <th>Workload</th>\n",
       "      <th>Weight</th>\n",
       "      <th>Height</th>\n",
       "      <th>BMI</th>\n",
       "      <th>AbsentHours</th>\n",
       "    </tr>\n",
       "  </thead>\n",
       "  <tbody>\n",
       "    <tr>\n",
       "      <th>count</th>\n",
       "      <td>740.000000</td>\n",
       "      <td>740.000000</td>\n",
       "      <td>740.000000</td>\n",
       "      <td>740.000000</td>\n",
       "      <td>740.000000</td>\n",
       "      <td>740.000000</td>\n",
       "      <td>740.000000</td>\n",
       "      <td>740.000000</td>\n",
       "      <td>740.000000</td>\n",
       "    </tr>\n",
       "    <tr>\n",
       "      <th>mean</th>\n",
       "      <td>221.329730</td>\n",
       "      <td>29.631081</td>\n",
       "      <td>12.554054</td>\n",
       "      <td>36.450000</td>\n",
       "      <td>271.490235</td>\n",
       "      <td>79.035135</td>\n",
       "      <td>172.114865</td>\n",
       "      <td>26.677027</td>\n",
       "      <td>6.924324</td>\n",
       "    </tr>\n",
       "    <tr>\n",
       "      <th>std</th>\n",
       "      <td>66.952223</td>\n",
       "      <td>14.836788</td>\n",
       "      <td>4.384873</td>\n",
       "      <td>6.478772</td>\n",
       "      <td>39.058116</td>\n",
       "      <td>12.883211</td>\n",
       "      <td>6.034995</td>\n",
       "      <td>4.285452</td>\n",
       "      <td>13.330998</td>\n",
       "    </tr>\n",
       "    <tr>\n",
       "      <th>min</th>\n",
       "      <td>118.000000</td>\n",
       "      <td>5.000000</td>\n",
       "      <td>1.000000</td>\n",
       "      <td>27.000000</td>\n",
       "      <td>205.917000</td>\n",
       "      <td>56.000000</td>\n",
       "      <td>163.000000</td>\n",
       "      <td>19.000000</td>\n",
       "      <td>0.000000</td>\n",
       "    </tr>\n",
       "    <tr>\n",
       "      <th>25%</th>\n",
       "      <td>179.000000</td>\n",
       "      <td>16.000000</td>\n",
       "      <td>9.000000</td>\n",
       "      <td>31.000000</td>\n",
       "      <td>244.387000</td>\n",
       "      <td>69.000000</td>\n",
       "      <td>169.000000</td>\n",
       "      <td>24.000000</td>\n",
       "      <td>2.000000</td>\n",
       "    </tr>\n",
       "    <tr>\n",
       "      <th>50%</th>\n",
       "      <td>225.000000</td>\n",
       "      <td>26.000000</td>\n",
       "      <td>13.000000</td>\n",
       "      <td>37.000000</td>\n",
       "      <td>264.249000</td>\n",
       "      <td>83.000000</td>\n",
       "      <td>170.000000</td>\n",
       "      <td>25.000000</td>\n",
       "      <td>3.000000</td>\n",
       "    </tr>\n",
       "    <tr>\n",
       "      <th>75%</th>\n",
       "      <td>260.000000</td>\n",
       "      <td>50.000000</td>\n",
       "      <td>16.000000</td>\n",
       "      <td>40.000000</td>\n",
       "      <td>294.217000</td>\n",
       "      <td>89.000000</td>\n",
       "      <td>172.000000</td>\n",
       "      <td>31.000000</td>\n",
       "      <td>8.000000</td>\n",
       "    </tr>\n",
       "    <tr>\n",
       "      <th>max</th>\n",
       "      <td>388.000000</td>\n",
       "      <td>52.000000</td>\n",
       "      <td>29.000000</td>\n",
       "      <td>58.000000</td>\n",
       "      <td>378.884000</td>\n",
       "      <td>108.000000</td>\n",
       "      <td>196.000000</td>\n",
       "      <td>38.000000</td>\n",
       "      <td>120.000000</td>\n",
       "    </tr>\n",
       "  </tbody>\n",
       "</table>\n",
       "</div>"
      ],
      "text/plain": [
       "       Transportation    Distance     Service         Age    Workload  \\\n",
       "count      740.000000  740.000000  740.000000  740.000000  740.000000   \n",
       "mean       221.329730   29.631081   12.554054   36.450000  271.490235   \n",
       "std         66.952223   14.836788    4.384873    6.478772   39.058116   \n",
       "min        118.000000    5.000000    1.000000   27.000000  205.917000   \n",
       "25%        179.000000   16.000000    9.000000   31.000000  244.387000   \n",
       "50%        225.000000   26.000000   13.000000   37.000000  264.249000   \n",
       "75%        260.000000   50.000000   16.000000   40.000000  294.217000   \n",
       "max        388.000000   52.000000   29.000000   58.000000  378.884000   \n",
       "\n",
       "           Weight      Height         BMI  AbsentHours  \n",
       "count  740.000000  740.000000  740.000000   740.000000  \n",
       "mean    79.035135  172.114865   26.677027     6.924324  \n",
       "std     12.883211    6.034995    4.285452    13.330998  \n",
       "min     56.000000  163.000000   19.000000     0.000000  \n",
       "25%     69.000000  169.000000   24.000000     2.000000  \n",
       "50%     83.000000  170.000000   25.000000     3.000000  \n",
       "75%     89.000000  172.000000   31.000000     8.000000  \n",
       "max    108.000000  196.000000   38.000000   120.000000  "
      ]
     },
     "execution_count": 4,
     "metadata": {},
     "output_type": "execute_result"
    }
   ],
   "source": [
    "data.describe()"
   ]
  },
  {
   "cell_type": "code",
   "execution_count": 5,
   "metadata": {},
   "outputs": [
    {
     "data": {
      "text/plain": [
       "<matplotlib.axes._subplots.AxesSubplot at 0x1a1686b090>"
      ]
     },
     "execution_count": 5,
     "metadata": {},
     "output_type": "execute_result"
    },
    {
     "data": {
      "image/png": "[encoded data removed]",
      "text/plain": [
       "<Figure size 864x576 with 1 Axes>"
      ]
     },
     "metadata": {
      "needs_background": "light"
     },
     "output_type": "display_data"
    }
   ],
   "source": [
    "data.boxplot(figsize=(12, 8))"
   ]
  },
  {
   "cell_type": "markdown",
   "metadata": {},
   "source": [
    "We notice a couple of things after plotting the features in our data set\n",
    "- Their scales are completely different\n",
    "- They have widely different means and standard deviations\n",
    "- Many features have outliers \n",
    "\n",
    "To scale this data we will use the scale preprocessing function from scikit learn, this function accepts an array-like values as input so we can pass the panda column directly. The scale function will automatically take care of centering your features to the mean value and will perform a component wide scaling to have each feature be of unit variance."
   ]
  },
  {
   "cell_type": "code",
   "execution_count": 6,
   "metadata": {},
   "outputs": [],
   "source": [
    "scaled_data = pd.DataFrame()\n",
    "\n",
    "scaled_data['Transportation'] = scale(data['Transportation'])\n",
    "scaled_data['Distance'] = scale(data['Distance'])\n",
    "scaled_data['AbsentHours'] = scale(data['AbsentHours'])"
   ]
  },
  {
   "cell_type": "code",
   "execution_count": 7,
   "metadata": {},
   "outputs": [
    {
     "data": {
      "text/html": [
       "<div>\n",
       "<style scoped>\n",
       "    .dataframe tbody tr th:only-of-type {\n",
       "        vertical-align: middle;\n",
       "    }\n",
       "\n",
       "    .dataframe tbody tr th {\n",
       "        vertical-align: top;\n",
       "    }\n",
       "\n",
       "    .dataframe thead th {\n",
       "        text-align: right;\n",
       "    }\n",
       "</style>\n",
       "<table border=\"1\" class=\"dataframe\">\n",
       "  <thead>\n",
       "    <tr style=\"text-align: right;\">\n",
       "      <th></th>\n",
       "      <th>Transportation</th>\n",
       "      <th>Distance</th>\n",
       "      <th>AbsentHours</th>\n",
       "    </tr>\n",
       "  </thead>\n",
       "  <tbody>\n",
       "    <tr>\n",
       "      <th>count</th>\n",
       "      <td>7.400000e+02</td>\n",
       "      <td>7.400000e+02</td>\n",
       "      <td>7.400000e+02</td>\n",
       "    </tr>\n",
       "    <tr>\n",
       "      <th>mean</th>\n",
       "      <td>6.601326e-17</td>\n",
       "      <td>-5.911187e-17</td>\n",
       "      <td>9.751959e-17</td>\n",
       "    </tr>\n",
       "    <tr>\n",
       "      <th>std</th>\n",
       "      <td>1.000676e+00</td>\n",
       "      <td>1.000676e+00</td>\n",
       "      <td>1.000676e+00</td>\n",
       "    </tr>\n",
       "    <tr>\n",
       "      <th>min</th>\n",
       "      <td>-1.544379e+00</td>\n",
       "      <td>-1.661258e+00</td>\n",
       "      <td>-5.197666e-01</td>\n",
       "    </tr>\n",
       "    <tr>\n",
       "      <th>25%</th>\n",
       "      <td>-6.326655e-01</td>\n",
       "      <td>-9.193567e-01</td>\n",
       "      <td>-3.696389e-01</td>\n",
       "    </tr>\n",
       "    <tr>\n",
       "      <th>50%</th>\n",
       "      <td>5.485632e-02</td>\n",
       "      <td>-2.449005e-01</td>\n",
       "      <td>-2.945750e-01</td>\n",
       "    </tr>\n",
       "    <tr>\n",
       "      <th>75%</th>\n",
       "      <td>5.779707e-01</td>\n",
       "      <td>1.373794e+00</td>\n",
       "      <td>8.074438e-02</td>\n",
       "    </tr>\n",
       "    <tr>\n",
       "      <th>max</th>\n",
       "      <td>2.491075e+00</td>\n",
       "      <td>1.508686e+00</td>\n",
       "      <td>8.487898e+00</td>\n",
       "    </tr>\n",
       "  </tbody>\n",
       "</table>\n",
       "</div>"
      ],
      "text/plain": [
       "       Transportation      Distance   AbsentHours\n",
       "count    7.400000e+02  7.400000e+02  7.400000e+02\n",
       "mean     6.601326e-17 -5.911187e-17  9.751959e-17\n",
       "std      1.000676e+00  1.000676e+00  1.000676e+00\n",
       "min     -1.544379e+00 -1.661258e+00 -5.197666e-01\n",
       "25%     -6.326655e-01 -9.193567e-01 -3.696389e-01\n",
       "50%      5.485632e-02 -2.449005e-01 -2.945750e-01\n",
       "75%      5.779707e-01  1.373794e+00  8.074438e-02\n",
       "max      2.491075e+00  1.508686e+00  8.487898e+00"
      ]
     },
     "execution_count": 7,
     "metadata": {},
     "output_type": "execute_result"
    }
   ],
   "source": [
    "scaled_data.describe()"
   ]
  },
  {
   "cell_type": "code",
   "execution_count": 8,
   "metadata": {},
   "outputs": [
    {
     "data": {
      "text/plain": [
       "<matplotlib.axes._subplots.AxesSubplot at 0x1a17904710>"
      ]
     },
     "execution_count": 8,
     "metadata": {},
     "output_type": "execute_result"
    },
    {
     "data": {
      "image/png": "[encoded data removed]",
      "text/plain": [
       "<Figure size 864x576 with 1 Axes>"
      ]
     },
     "metadata": {
      "needs_background": "light"
     },
     "output_type": "display_data"
    }
   ],
   "source": [
    "scaled_data.boxplot(figsize=(12, 8))"
   ]
  },
  {
   "cell_type": "markdown",
   "metadata": {},
   "source": [
    "Note: The presence of outliers, such as in the AbsentHours datapoint, at the upper end results in moving the average up- the outliers disproportionately affect the mean. This means that the StandardScaler is sensitive to the presence of outliers. "
   ]
  },
  {
   "cell_type": "code",
   "execution_count": 9,
   "metadata": {},
   "outputs": [],
   "source": [
    "scaled_array = scale(data, copy=True, with_mean=True, with_std=True)"
   ]
  },
  {
   "cell_type": "markdown",
   "metadata": {},
   "source": [
    "- copy: Make copy before scaling, original data remains unaffected\n",
    "- with_mean: Center data before scaling\n",
    "- with_std: Scale to unit variance"
   ]
  },
  {
   "cell_type": "code",
   "execution_count": 10,
   "metadata": {},
   "outputs": [
    {
     "data": {
      "text/plain": [
       "numpy.ndarray"
      ]
     },
     "execution_count": 10,
     "metadata": {},
     "output_type": "execute_result"
    }
   ],
   "source": [
    "type(scaled_array)"
   ]
  },
  {
   "cell_type": "code",
   "execution_count": 11,
   "metadata": {},
   "outputs": [
    {
     "data": {
      "text/plain": [
       "(740, 9)"
      ]
     },
     "execution_count": 11,
     "metadata": {},
     "output_type": "execute_result"
    }
   ],
   "source": [
    "scaled_array.shape"
   ]
  },
  {
   "cell_type": "code",
   "execution_count": 12,
   "metadata": {},
   "outputs": [],
   "source": [
    "scaled_data = pd.DataFrame(scale(data), columns=data.columns)"
   ]
  },
  {
   "cell_type": "code",
   "execution_count": 14,
   "metadata": {},
   "outputs": [
    {
     "data": {
      "text/html": [
       "<div>\n",
       "<style scoped>\n",
       "    .dataframe tbody tr th:only-of-type {\n",
       "        vertical-align: middle;\n",
       "    }\n",
       "\n",
       "    .dataframe tbody tr th {\n",
       "        vertical-align: top;\n",
       "    }\n",
       "\n",
       "    .dataframe thead th {\n",
       "        text-align: right;\n",
       "    }\n",
       "</style>\n",
       "<table border=\"1\" class=\"dataframe\">\n",
       "  <thead>\n",
       "    <tr style=\"text-align: right;\">\n",
       "      <th></th>\n",
       "      <th>Transportation</th>\n",
       "      <th>Distance</th>\n",
       "      <th>Service</th>\n",
       "      <th>Age</th>\n",
       "      <th>Workload</th>\n",
       "      <th>Weight</th>\n",
       "      <th>Height</th>\n",
       "      <th>BMI</th>\n",
       "      <th>AbsentHours</th>\n",
       "    </tr>\n",
       "  </thead>\n",
       "  <tbody>\n",
       "    <tr>\n",
       "      <th>count</th>\n",
       "      <td>7.400000e+02</td>\n",
       "      <td>7.400000e+02</td>\n",
       "      <td>7.400000e+02</td>\n",
       "      <td>7.400000e+02</td>\n",
       "      <td>7.400000e+02</td>\n",
       "      <td>7.400000e+02</td>\n",
       "      <td>7.400000e+02</td>\n",
       "      <td>7.400000e+02</td>\n",
       "      <td>7.400000e+02</td>\n",
       "    </tr>\n",
       "    <tr>\n",
       "      <th>mean</th>\n",
       "      <td>6.601326e-17</td>\n",
       "      <td>-5.911187e-17</td>\n",
       "      <td>-3.660735e-17</td>\n",
       "      <td>-4.626929e-16</td>\n",
       "      <td>1.866148e-15</td>\n",
       "      <td>2.794311e-17</td>\n",
       "      <td>-1.015329e-15</td>\n",
       "      <td>-1.215244e-16</td>\n",
       "      <td>9.751959e-17</td>\n",
       "    </tr>\n",
       "    <tr>\n",
       "      <th>std</th>\n",
       "      <td>1.000676e+00</td>\n",
       "      <td>1.000676e+00</td>\n",
       "      <td>1.000676e+00</td>\n",
       "      <td>1.000676e+00</td>\n",
       "      <td>1.000676e+00</td>\n",
       "      <td>1.000676e+00</td>\n",
       "      <td>1.000676e+00</td>\n",
       "      <td>1.000676e+00</td>\n",
       "      <td>1.000676e+00</td>\n",
       "    </tr>\n",
       "    <tr>\n",
       "      <th>min</th>\n",
       "      <td>-1.544379e+00</td>\n",
       "      <td>-1.661258e+00</td>\n",
       "      <td>-2.636762e+00</td>\n",
       "      <td>-1.459596e+00</td>\n",
       "      <td>-1.679999e+00</td>\n",
       "      <td>-1.789206e+00</td>\n",
       "      <td>-1.511357e+00</td>\n",
       "      <td>-1.792627e+00</td>\n",
       "      <td>-5.197666e-01</td>\n",
       "    </tr>\n",
       "    <tr>\n",
       "      <th>25%</th>\n",
       "      <td>-6.326655e-01</td>\n",
       "      <td>-9.193567e-01</td>\n",
       "      <td>-8.110742e-01</td>\n",
       "      <td>-8.417777e-01</td>\n",
       "      <td>-6.943900e-01</td>\n",
       "      <td>-7.794581e-01</td>\n",
       "      <td>-5.164829e-01</td>\n",
       "      <td>-6.251003e-01</td>\n",
       "      <td>-3.696389e-01</td>\n",
       "    </tr>\n",
       "    <tr>\n",
       "      <th>50%</th>\n",
       "      <td>5.485632e-02</td>\n",
       "      <td>-2.449005e-01</td>\n",
       "      <td>1.017698e-01</td>\n",
       "      <td>8.495004e-02</td>\n",
       "      <td>-1.855218e-01</td>\n",
       "      <td>3.079626e-01</td>\n",
       "      <td>-3.506706e-01</td>\n",
       "      <td>-3.915949e-01</td>\n",
       "      <td>-2.945750e-01</td>\n",
       "    </tr>\n",
       "    <tr>\n",
       "      <th>75%</th>\n",
       "      <td>5.779707e-01</td>\n",
       "      <td>1.373794e+00</td>\n",
       "      <td>7.864028e-01</td>\n",
       "      <td>5.483139e-01</td>\n",
       "      <td>5.822640e-01</td>\n",
       "      <td>7.740000e-01</td>\n",
       "      <td>-1.904601e-02</td>\n",
       "      <td>1.009438e+00</td>\n",
       "      <td>8.074438e-02</td>\n",
       "    </tr>\n",
       "    <tr>\n",
       "      <th>max</th>\n",
       "      <td>2.491075e+00</td>\n",
       "      <td>1.508686e+00</td>\n",
       "      <td>3.753146e+00</td>\n",
       "      <td>3.328497e+00</td>\n",
       "      <td>2.751449e+00</td>\n",
       "      <td>2.249785e+00</td>\n",
       "      <td>3.960449e+00</td>\n",
       "      <td>2.643976e+00</td>\n",
       "      <td>8.487898e+00</td>\n",
       "    </tr>\n",
       "  </tbody>\n",
       "</table>\n",
       "</div>"
      ],
      "text/plain": [
       "       Transportation      Distance       Service           Age      Workload  \\\n",
       "count    7.400000e+02  7.400000e+02  7.400000e+02  7.400000e+02  7.400000e+02   \n",
       "mean     6.601326e-17 -5.911187e-17 -3.660735e-17 -4.626929e-16  1.866148e-15   \n",
       "std      1.000676e+00  1.000676e+00  1.000676e+00  1.000676e+00  1.000676e+00   \n",
       "min     -1.544379e+00 -1.661258e+00 -2.636762e+00 -1.459596e+00 -1.679999e+00   \n",
       "25%     -6.326655e-01 -9.193567e-01 -8.110742e-01 -8.417777e-01 -6.943900e-01   \n",
       "50%      5.485632e-02 -2.449005e-01  1.017698e-01  8.495004e-02 -1.855218e-01   \n",
       "75%      5.779707e-01  1.373794e+00  7.864028e-01  5.483139e-01  5.822640e-01   \n",
       "max      2.491075e+00  1.508686e+00  3.753146e+00  3.328497e+00  2.751449e+00   \n",
       "\n",
       "             Weight        Height           BMI   AbsentHours  \n",
       "count  7.400000e+02  7.400000e+02  7.400000e+02  7.400000e+02  \n",
       "mean   2.794311e-17 -1.015329e-15 -1.215244e-16  9.751959e-17  \n",
       "std    1.000676e+00  1.000676e+00  1.000676e+00  1.000676e+00  \n",
       "min   -1.789206e+00 -1.511357e+00 -1.792627e+00 -5.197666e-01  \n",
       "25%   -7.794581e-01 -5.164829e-01 -6.251003e-01 -3.696389e-01  \n",
       "50%    3.079626e-01 -3.506706e-01 -3.915949e-01 -2.945750e-01  \n",
       "75%    7.740000e-01 -1.904601e-02  1.009438e+00  8.074438e-02  \n",
       "max    2.249785e+00  3.960449e+00  2.643976e+00  8.487898e+00  "
      ]
     },
     "execution_count": 14,
     "metadata": {},
     "output_type": "execute_result"
    }
   ],
   "source": [
    "scaled_data.describe()"
   ]
  },
  {
   "cell_type": "code",
   "execution_count": 15,
   "metadata": {},
   "outputs": [
    {
     "data": {
      "text/plain": [
       "<matplotlib.axes._subplots.AxesSubplot at 0x1a17bb7e50>"
      ]
     },
     "execution_count": 15,
     "metadata": {},
     "output_type": "execute_result"
    },
    {
     "data": {
      "image/png": "[encoded data removed]",
      "text/plain": [
       "<Figure size 864x576 with 1 Axes>"
      ]
     },
     "metadata": {
      "needs_background": "light"
     },
     "output_type": "display_data"
    }
   ],
   "source": [
    "scaled_data.boxplot(figsize=(12, 8))"
   ]
  },
  {
   "cell_type": "code",
   "execution_count": 17,
   "metadata": {},
   "outputs": [
    {
     "data": {
      "text/plain": [
       "<matplotlib.axes._subplots.AxesSubplot at 0x1a18007210>"
      ]
     },
     "execution_count": 17,
     "metadata": {},
     "output_type": "execute_result"
    },
    {
     "data": {
      "image/png": "[encoded data removed]",
      "text/plain": [
       "<Figure size 864x576 with 1 Axes>"
      ]
     },
     "metadata": {
      "needs_background": "light"
     },
     "output_type": "display_data"
    }
   ],
   "source": [
    "scaled_data = pd.DataFrame(scale(data, with_mean=False), columns=data.columns)\n",
    "# keeps original means of the data\n",
    "scaled_data.boxplot(figsize=(12, 8))"
   ]
  },
  {
   "cell_type": "code",
   "execution_count": 19,
   "metadata": {
    "scrolled": true
   },
   "outputs": [
    {
     "data": {
      "text/plain": [
       "<matplotlib.axes._subplots.AxesSubplot at 0x1a18284ad0>"
      ]
     },
     "execution_count": 19,
     "metadata": {},
     "output_type": "execute_result"
    },
    {
     "data": {
      "image/png": "[encoded data removed]",
      "text/plain": [
       "<Figure size 864x576 with 1 Axes>"
      ]
     },
     "metadata": {
      "needs_background": "light"
     },
     "output_type": "display_data"
    }
   ],
   "source": [
    "scaled_data = pd.DataFrame(scale(data, with_std=False), columns=data.columns)\n",
    "# data is centered around a mean of 0 but have their default standard deviations\n",
    "scaled_data.boxplot(figsize=(12, 8))"
   ]
  },
  {
   "cell_type": "markdown",
   "metadata": {},
   "source": [
    "Next, we will us the StandardScaler estimator API which is used to perform scaling- has the fit(), transform() and fit_transform() functions\n",
    "- Estimators make up the individual components of scikit-learn's ML pipeline, preprocessing estimators preprocess the data\n",
    "- The fit function will compute the mean and standard deviation on the data passed in, the mean and stdev calculated will be used later to scale data sets (this one and others that would be used for testing later)\n",
    "- The transform function is what actually scales the dataset with the computed mean dn stdev from the fit function\n",
    "- You can fit one dataset and use its calculated mean and stdev to use transform on a different dataset\n",
    "- To call fit and transform on the same dataset we can use teh fit_transform function"
   ]
  },
  {
   "cell_type": "code",
   "execution_count": 20,
   "metadata": {},
   "outputs": [
    {
     "data": {
      "text/plain": [
       "StandardScaler(copy=True, with_mean=True, with_std=True)"
      ]
     },
     "execution_count": 20,
     "metadata": {},
     "output_type": "execute_result"
    }
   ],
   "source": [
    "std_scaler = StandardScaler(copy=True, with_mean=True, with_std=True)\n",
    "\n",
    "std_scaler"
   ]
  },
  {
   "cell_type": "code",
   "execution_count": 21,
   "metadata": {},
   "outputs": [
    {
     "data": {
      "text/plain": [
       "StandardScaler(copy=True, with_mean=True, with_std=True)"
      ]
     },
     "execution_count": 21,
     "metadata": {},
     "output_type": "execute_result"
    }
   ],
   "source": [
    "std_scaler.fit(data)"
   ]
  },
  {
   "cell_type": "code",
   "execution_count": 22,
   "metadata": {},
   "outputs": [],
   "source": [
    "scaled_array = std_scaler.transform(data)"
   ]
  },
  {
   "cell_type": "code",
   "execution_count": 23,
   "metadata": {},
   "outputs": [
    {
     "data": {
      "text/plain": [
       "(740, 9)"
      ]
     },
     "execution_count": 23,
     "metadata": {},
     "output_type": "execute_result"
    }
   ],
   "source": [
    "scaled_array.shape"
   ]
  },
  {
   "cell_type": "code",
   "execution_count": 25,
   "metadata": {},
   "outputs": [
    {
     "data": {
      "text/plain": [
       "<matplotlib.axes._subplots.AxesSubplot at 0x1a1851d1d0>"
      ]
     },
     "execution_count": 25,
     "metadata": {},
     "output_type": "execute_result"
    },
    {
     "data": {
      "image/png": "[encoded data removed]",
      "text/plain": [
       "<Figure size 864x576 with 1 Axes>"
      ]
     },
     "metadata": {
      "needs_background": "light"
     },
     "output_type": "display_data"
    }
   ],
   "source": [
    "scaled_data = pd.DataFrame(scaled_array, columns=data.columns)\n",
    "\n",
    "scaled_data.boxplot(figsize=(12, 8))"
   ]
  },
  {
   "cell_type": "code",
   "execution_count": 26,
   "metadata": {},
   "outputs": [
    {
     "data": {
      "text/plain": [
       "<matplotlib.axes._subplots.AxesSubplot at 0x1a187add10>"
      ]
     },
     "execution_count": 26,
     "metadata": {},
     "output_type": "execute_result"
    },
    {
     "data": {
      "image/png": "[encoded data removed]",
      "text/plain": [
       "<Figure size 864x576 with 1 Axes>"
      ]
     },
     "metadata": {
      "needs_background": "light"
     },
     "output_type": "display_data"
    }
   ],
   "source": [
    "std_scaler = StandardScaler(copy=True, with_mean=True, with_std=True)\n",
    "\n",
    "scaled_array = std_scaler.fit_transform(data)\n",
    "\n",
    "scaled_data = pd.DataFrame(scaled_array, columns=data.columns)\n",
    "\n",
    "scaled_data.boxplot(figsize=(12, 8))"
   ]
  },
  {
   "cell_type": "markdown",
   "metadata": {},
   "source": [
    "We can access the StandardScaler's estimator properties so see how the standardization was performed\n",
    "- mean_ : mean values for individual features\n",
    "- var_ : variances\n",
    "- scale_ : standard deviations\n",
    "- n_samples_seen_ : how many samples were included in the standardization"
   ]
  },
  {
   "cell_type": "code",
   "execution_count": 27,
   "metadata": {},
   "outputs": [
    {
     "data": {
      "text/plain": [
       "array([221.32972973,  29.63108108,  12.55405405,  36.45      ,\n",
       "       271.49023514,  79.03513514, 172.11486486,  26.67702703,\n",
       "         6.92432432])"
      ]
     },
     "execution_count": 27,
     "metadata": {},
     "output_type": "execute_result"
    }
   ],
   "source": [
    "std_scaler.mean_"
   ]
  },
  {
   "cell_type": "code",
   "execution_count": 28,
   "metadata": {},
   "outputs": [
    {
     "data": {
      "text/plain": [
       "array([4476.54262966,  219.83281775,   19.20113221,   41.91777027,\n",
       "       1523.47490444,  165.75281958,   36.3719412 ,   18.34028305,\n",
       "        177.47535427])"
      ]
     },
     "execution_count": 28,
     "metadata": {},
     "output_type": "execute_result"
    }
   ],
   "source": [
    "std_scaler.var_"
   ]
  },
  {
   "cell_type": "code",
   "execution_count": 29,
   "metadata": {},
   "outputs": [
    {
     "data": {
      "text/plain": [
       "array([66.90696996, 14.82676019,  4.38190965,  6.47439343, 39.03171665,\n",
       "       12.87450269,  6.03091545,  4.28255567, 13.32198762])"
      ]
     },
     "execution_count": 29,
     "metadata": {},
     "output_type": "execute_result"
    }
   ],
   "source": [
    "std_scaler.scale_"
   ]
  },
  {
   "cell_type": "code",
   "execution_count": 30,
   "metadata": {},
   "outputs": [
    {
     "data": {
      "text/plain": [
       "740"
      ]
     },
     "execution_count": 30,
     "metadata": {},
     "output_type": "execute_result"
    }
   ],
   "source": [
    "std_scaler.n_samples_seen_"
   ]
  },
  {
   "cell_type": "markdown",
   "metadata": {},
   "source": [
    "### Bessel's correction\n",
    "\n",
    "This technique which corrects the bias in the estimation of the population's variance, use n-1 rather than n for calculating the variance\n",
    "\n",
    "We can apply this correction to the scaled data from StandardScaler by applying this formula:\n",
    "\n",
    "x_scaled $ = (x - mean(x))/(stdev(x)*besselsCorrection) $"
   ]
  },
  {
   "cell_type": "code",
   "execution_count": 31,
   "metadata": {},
   "outputs": [
    {
     "data": {
      "text/plain": [
       "0.9993240959011489"
      ]
     },
     "execution_count": 31,
     "metadata": {},
     "output_type": "execute_result"
    }
   ],
   "source": [
    "n = data.shape[0]\n",
    "\n",
    "bessels_correction_adjustment = math.sqrt((n-1) / n)\n",
    "bessels_correction_adjustment"
   ]
  },
  {
   "cell_type": "code",
   "execution_count": 32,
   "metadata": {},
   "outputs": [],
   "source": [
    "scaled_data['Distance_Bessels'] = (scaled_data['Distance'] - scaled_data['Distance'].mean()) /\\\n",
    "        (scaled_data['Distance'].std() * bessels_correction_adjustment)"
   ]
  },
  {
   "cell_type": "code",
   "execution_count": 33,
   "metadata": {},
   "outputs": [
    {
     "data": {
      "text/html": [
       "<div>\n",
       "<style scoped>\n",
       "    .dataframe tbody tr th:only-of-type {\n",
       "        vertical-align: middle;\n",
       "    }\n",
       "\n",
       "    .dataframe tbody tr th {\n",
       "        vertical-align: top;\n",
       "    }\n",
       "\n",
       "    .dataframe thead th {\n",
       "        text-align: right;\n",
       "    }\n",
       "</style>\n",
       "<table border=\"1\" class=\"dataframe\">\n",
       "  <thead>\n",
       "    <tr style=\"text-align: right;\">\n",
       "      <th></th>\n",
       "      <th>Distance</th>\n",
       "      <th>Distance_Bessels</th>\n",
       "    </tr>\n",
       "  </thead>\n",
       "  <tbody>\n",
       "    <tr>\n",
       "      <th>0</th>\n",
       "      <td>0.429556</td>\n",
       "      <td>0.429556</td>\n",
       "    </tr>\n",
       "    <tr>\n",
       "      <th>1</th>\n",
       "      <td>-1.121694</td>\n",
       "      <td>-1.121694</td>\n",
       "    </tr>\n",
       "    <tr>\n",
       "      <th>2</th>\n",
       "      <td>1.441240</td>\n",
       "      <td>1.441240</td>\n",
       "    </tr>\n",
       "    <tr>\n",
       "      <th>3</th>\n",
       "      <td>-1.661258</td>\n",
       "      <td>-1.661258</td>\n",
       "    </tr>\n",
       "    <tr>\n",
       "      <th>4</th>\n",
       "      <td>0.429556</td>\n",
       "      <td>0.429556</td>\n",
       "    </tr>\n",
       "    <tr>\n",
       "      <th>5</th>\n",
       "      <td>1.441240</td>\n",
       "      <td>1.441240</td>\n",
       "    </tr>\n",
       "    <tr>\n",
       "      <th>6</th>\n",
       "      <td>1.508686</td>\n",
       "      <td>1.508686</td>\n",
       "    </tr>\n",
       "    <tr>\n",
       "      <th>7</th>\n",
       "      <td>1.373794</td>\n",
       "      <td>1.373794</td>\n",
       "    </tr>\n",
       "    <tr>\n",
       "      <th>8</th>\n",
       "      <td>-1.189139</td>\n",
       "      <td>-1.189139</td>\n",
       "    </tr>\n",
       "    <tr>\n",
       "      <th>9</th>\n",
       "      <td>-1.256585</td>\n",
       "      <td>-1.256585</td>\n",
       "    </tr>\n",
       "  </tbody>\n",
       "</table>\n",
       "</div>"
      ],
      "text/plain": [
       "   Distance  Distance_Bessels\n",
       "0  0.429556          0.429556\n",
       "1 -1.121694         -1.121694\n",
       "2  1.441240          1.441240\n",
       "3 -1.661258         -1.661258\n",
       "4  0.429556          0.429556\n",
       "5  1.441240          1.441240\n",
       "6  1.508686          1.508686\n",
       "7  1.373794          1.373794\n",
       "8 -1.189139         -1.189139\n",
       "9 -1.256585         -1.256585"
      ]
     },
     "execution_count": 33,
     "metadata": {},
     "output_type": "execute_result"
    }
   ],
   "source": [
    "scaled_data[['Distance', 'Distance_Bessels']].head(10)"
   ]
  },
  {
   "cell_type": "markdown",
   "metadata": {},
   "source": [
    "Scaled values using the Bessel's correction will be close to the original scaled values (as seen here) when n is very large"
   ]
  },
  {
   "cell_type": "code",
   "execution_count": null,
   "metadata": {},
   "outputs": [],
   "source": []
  }
 ],
 "metadata": {
  "kernelspec": {
   "display_name": "Python 3",
   "language": "python",
   "name": "python3"
  },
  "language_info": {
   "codemirror_mode": {
    "name": "ipython",
    "version": 3
   },
   "file_extension": ".py",
   "mimetype": "text/x-python",
   "name": "python",
   "nbconvert_exporter": "python",
   "pygments_lexer": "ipython3",
   "version": "3.7.6"
  }
 },
 "nbformat": 4,
 "nbformat_minor": 2
}
