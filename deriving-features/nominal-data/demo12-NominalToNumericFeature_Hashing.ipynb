{
 "cells": [
  {
   "cell_type": "markdown",
   "metadata": {},
   "source": [
    "# Feature Hashing with Dictionaries, Tuples, and Text Data\n",
    "\n",
    "This notebook will also include how to use FeatureHasher and build a simple regression model used Hashed Categorical Values\n",
    "\n",
    "https://scikit-learn.org/stable/modules/generated/sklearn.feature_extraction.FeatureHasher.html"
   ]
  },
  {
   "cell_type": "markdown",
   "metadata": {},
   "source": [
    "## sklearn.feature_extraction.FeatureHasher\n",
    "This class turns sequences of symbolic feature names (strings) into scipy.sparse matrices, using a hash function to compute the matrix column corresponding to a name. The hash function employed is the signed 32-bit version of `Murmurhash3`"
   ]
  },
  {
   "cell_type": "code",
   "execution_count": 1,
   "metadata": {},
   "outputs": [],
   "source": [
    "import pandas as pd\n",
    "import numpy as np\n",
    "\n",
    "import seaborn as sns\n",
    "import matplotlib.pyplot as plt\n",
    "\n",
    "from sklearn.feature_extraction import FeatureHasher"
   ]
  },
  {
   "cell_type": "markdown",
   "metadata": {},
   "source": [
    "### Creating a object of FeatureHasher"
   ]
  },
  {
   "cell_type": "code",
   "execution_count": 2,
   "metadata": {},
   "outputs": [],
   "source": [
    "hasher_dict = FeatureHasher(n_features=5, input_type='dict')"
   ]
  },
  {
   "cell_type": "markdown",
   "metadata": {},
   "source": [
    "* `n_features` : Required number of features (columns) in the output matrices.\n",
    "\n",
    "* `input_type` : string, pair, default “dict”"
   ]
  },
  {
   "cell_type": "markdown",
   "metadata": {},
   "source": [
    "### Fitting and transforming dictionary "
   ]
  },
  {
   "cell_type": "code",
   "execution_count": 3,
   "metadata": {},
   "outputs": [],
   "source": [
    "random_dict = hasher_dict.fit_transform([{'a':1, 'b':2},\n",
    "                                         {'a':0, 'c':5}])"
   ]
  },
  {
   "cell_type": "code",
   "execution_count": 4,
   "metadata": {},
   "outputs": [
    {
     "data": {
      "text/plain": [
       "<2x5 sparse matrix of type '<class 'numpy.float64'>'\n",
       "\twith 3 stored elements in Compressed Sparse Row format>"
      ]
     },
     "execution_count": 4,
     "metadata": {},
     "output_type": "execute_result"
    }
   ],
   "source": [
    "random_dict"
   ]
  },
  {
   "cell_type": "code",
   "execution_count": 5,
   "metadata": {},
   "outputs": [
    {
     "data": {
      "text/plain": [
       "(2, 5)"
      ]
     },
     "execution_count": 5,
     "metadata": {},
     "output_type": "execute_result"
    }
   ],
   "source": [
    "random_dict.shape"
   ]
  },
  {
   "cell_type": "code",
   "execution_count": 6,
   "metadata": {},
   "outputs": [
    {
     "data": {
      "text/plain": [
       "scipy.sparse.csr.csr_matrix"
      ]
     },
     "execution_count": 6,
     "metadata": {},
     "output_type": "execute_result"
    }
   ],
   "source": [
    "type(random_dict)"
   ]
  },
  {
   "cell_type": "markdown",
   "metadata": {},
   "source": [
    "### Printing the sparse matrix as numpy array"
   ]
  },
  {
   "cell_type": "code",
   "execution_count": 7,
   "metadata": {},
   "outputs": [
    {
     "data": {
      "text/plain": [
       "array([[ 1., -2.,  0.,  0.,  0.],\n",
       "       [ 0.,  0., -5.,  0.,  0.]])"
      ]
     },
     "execution_count": 7,
     "metadata": {},
     "output_type": "execute_result"
    }
   ],
   "source": [
    "random_dict.toarray()"
   ]
  },
  {
   "cell_type": "markdown",
   "metadata": {},
   "source": [
    "* As number of features to be saved in the output is specified is `5` so the number column is `5`"
   ]
  },
  {
   "cell_type": "markdown",
   "metadata": {},
   "source": [
    "### Instantiating feature hasher to hash `pair` as input"
   ]
  },
  {
   "cell_type": "code",
   "execution_count": 8,
   "metadata": {},
   "outputs": [],
   "source": [
    "hasher_pair = FeatureHasher(n_features=5, input_type='pair')"
   ]
  },
  {
   "cell_type": "markdown",
   "metadata": {},
   "source": [
    "### Fitting and transforming pair"
   ]
  },
  {
   "cell_type": "code",
   "execution_count": 9,
   "metadata": {},
   "outputs": [],
   "source": [
    "random_pair = hasher_pair.fit_transform([[('a', 1), ('b', 2)],\n",
    "                                        [('a', 0), ('c', 5)]])"
   ]
  },
  {
   "cell_type": "code",
   "execution_count": 10,
   "metadata": {},
   "outputs": [
    {
     "data": {
      "text/plain": [
       "array([[ 1., -2.,  0.,  0.,  0.],\n",
       "       [ 0.,  0., -5.,  0.,  0.]])"
      ]
     },
     "execution_count": 10,
     "metadata": {},
     "output_type": "execute_result"
    }
   ],
   "source": [
    "random_pair.toarray()"
   ]
  },
  {
   "cell_type": "markdown",
   "metadata": {},
   "source": [
    "### Feature hasher does not provide inverse transformation"
   ]
  },
  {
   "cell_type": "code",
   "execution_count": 12,
   "metadata": {
    "scrolled": true
   },
   "outputs": [
    {
     "ename": "AttributeError",
     "evalue": "'FeatureHasher' object has no attribute 'inverse_transform'",
     "output_type": "error",
     "traceback": [
      "\u001b[0;31m---------------------------------------------------------------------------\u001b[0m",
      "\u001b[0;31mAttributeError\u001b[0m                            Traceback (most recent call last)",
      "\u001b[0;32m<ipython-input-12-a9dc9d7c5fde>\u001b[0m in \u001b[0;36m<module>\u001b[0;34m\u001b[0m\n\u001b[0;32m----> 1\u001b[0;31m \u001b[0mhasher_pair\u001b[0m\u001b[0;34m.\u001b[0m\u001b[0minverse_transform\u001b[0m\u001b[0;34m(\u001b[0m\u001b[0mrandom_pair\u001b[0m\u001b[0;34m)\u001b[0m\u001b[0;34m\u001b[0m\u001b[0;34m\u001b[0m\u001b[0m\n\u001b[0m",
      "\u001b[0;31mAttributeError\u001b[0m: 'FeatureHasher' object has no attribute 'inverse_transform'"
     ]
    }
   ],
   "source": [
    "hasher_pair.inverse_transform(random_pair)"
   ]
  },
  {
   "cell_type": "markdown",
   "metadata": {},
   "source": [
    "### Instantiating feature hasher to hash `string` as input"
   ]
  },
  {
   "cell_type": "code",
   "execution_count": 14,
   "metadata": {},
   "outputs": [],
   "source": [
    "text = [\"Where there’s a will, there’s a way\",\n",
    "        \"Look before you leap\",\n",
    "        \"The early bird catches the worm\",\n",
    "        \"Better late than never\"]"
   ]
  },
  {
   "cell_type": "code",
   "execution_count": 15,
   "metadata": {},
   "outputs": [],
   "source": [
    "hasher = FeatureHasher(n_features=8, input_type='string')"
   ]
  },
  {
   "cell_type": "markdown",
   "metadata": {},
   "source": [
    "### Encoding the text"
   ]
  },
  {
   "cell_type": "code",
   "execution_count": 16,
   "metadata": {},
   "outputs": [],
   "source": [
    "hashed_features = hasher.fit_transform(text)"
   ]
  },
  {
   "cell_type": "code",
   "execution_count": 17,
   "metadata": {},
   "outputs": [
    {
     "name": "stdout",
     "output_type": "stream",
     "text": [
      "(4, 8)\n"
     ]
    }
   ],
   "source": [
    "print(hashed_features.shape)"
   ]
  },
  {
   "cell_type": "markdown",
   "metadata": {},
   "source": [
    "### Printing the sparse matrix as numpy array"
   ]
  },
  {
   "cell_type": "code",
   "execution_count": 18,
   "metadata": {},
   "outputs": [
    {
     "data": {
      "text/plain": [
       "array([[ 5.,  1.,  1., -3.,  2., -4.,  1.,  4.],\n",
       "       [ 4.,  0.,  1.,  5.,  1., -1.,  0.,  2.],\n",
       "       [ 5.,  0.,  2.,  0.,  2., -6.,  1.,  3.],\n",
       "       [ 3.,  2.,  2., -5., -1., -1., -1.,  5.]])"
      ]
     },
     "execution_count": 18,
     "metadata": {},
     "output_type": "execute_result"
    }
   ],
   "source": [
    "hashed_features.toarray()"
   ]
  },
  {
   "cell_type": "markdown",
   "metadata": {},
   "source": [
    "## Now applying feature hashing on nominal features"
   ]
  },
  {
   "cell_type": "markdown",
   "metadata": {},
   "source": [
    "### Reading a CSV file"
   ]
  },
  {
   "cell_type": "markdown",
   "metadata": {},
   "source": [
    "#### It is a atmospheric readings dataset of different days from January to June month\n",
    "https://github.com/selva86/datasets/blob/master/ozone.csv"
   ]
  },
  {
   "cell_type": "code",
   "execution_count": 19,
   "metadata": {},
   "outputs": [
    {
     "data": {
      "text/html": [
       "<div>\n",
       "<style scoped>\n",
       "    .dataframe tbody tr th:only-of-type {\n",
       "        vertical-align: middle;\n",
       "    }\n",
       "\n",
       "    .dataframe tbody tr th {\n",
       "        vertical-align: top;\n",
       "    }\n",
       "\n",
       "    .dataframe thead th {\n",
       "        text-align: right;\n",
       "    }\n",
       "</style>\n",
       "<table border=\"1\" class=\"dataframe\">\n",
       "  <thead>\n",
       "    <tr style=\"text-align: right;\">\n",
       "      <th></th>\n",
       "      <th>Month</th>\n",
       "      <th>Day_of_month</th>\n",
       "      <th>ozone_reading</th>\n",
       "      <th>pressure_height</th>\n",
       "      <th>Wind_speed</th>\n",
       "      <th>Humidity</th>\n",
       "      <th>Inversion_temperature</th>\n",
       "      <th>Visibility</th>\n",
       "    </tr>\n",
       "  </thead>\n",
       "  <tbody>\n",
       "    <tr>\n",
       "      <th>29</th>\n",
       "      <td>February</td>\n",
       "      <td>23</td>\n",
       "      <td>4.04</td>\n",
       "      <td>5690</td>\n",
       "      <td>7</td>\n",
       "      <td>19</td>\n",
       "      <td>49.10</td>\n",
       "      <td>300</td>\n",
       "    </tr>\n",
       "    <tr>\n",
       "      <th>42</th>\n",
       "      <td>March</td>\n",
       "      <td>12</td>\n",
       "      <td>7.63</td>\n",
       "      <td>5690</td>\n",
       "      <td>0</td>\n",
       "      <td>60</td>\n",
       "      <td>59.72</td>\n",
       "      <td>300</td>\n",
       "    </tr>\n",
       "    <tr>\n",
       "      <th>57</th>\n",
       "      <td>April</td>\n",
       "      <td>5</td>\n",
       "      <td>4.33</td>\n",
       "      <td>5540</td>\n",
       "      <td>5</td>\n",
       "      <td>54</td>\n",
       "      <td>33.44</td>\n",
       "      <td>200</td>\n",
       "    </tr>\n",
       "    <tr>\n",
       "      <th>27</th>\n",
       "      <td>February</td>\n",
       "      <td>18</td>\n",
       "      <td>12.77</td>\n",
       "      <td>5770</td>\n",
       "      <td>3</td>\n",
       "      <td>82</td>\n",
       "      <td>58.28</td>\n",
       "      <td>40</td>\n",
       "    </tr>\n",
       "    <tr>\n",
       "      <th>82</th>\n",
       "      <td>May</td>\n",
       "      <td>13</td>\n",
       "      <td>24.89</td>\n",
       "      <td>5890</td>\n",
       "      <td>6</td>\n",
       "      <td>88</td>\n",
       "      <td>86.00</td>\n",
       "      <td>20</td>\n",
       "    </tr>\n",
       "    <tr>\n",
       "      <th>71</th>\n",
       "      <td>April</td>\n",
       "      <td>26</td>\n",
       "      <td>12.23</td>\n",
       "      <td>5700</td>\n",
       "      <td>5</td>\n",
       "      <td>41</td>\n",
       "      <td>58.10</td>\n",
       "      <td>40</td>\n",
       "    </tr>\n",
       "    <tr>\n",
       "      <th>58</th>\n",
       "      <td>April</td>\n",
       "      <td>6</td>\n",
       "      <td>9.32</td>\n",
       "      <td>5590</td>\n",
       "      <td>6</td>\n",
       "      <td>51</td>\n",
       "      <td>42.08</td>\n",
       "      <td>300</td>\n",
       "    </tr>\n",
       "    <tr>\n",
       "      <th>73</th>\n",
       "      <td>April</td>\n",
       "      <td>28</td>\n",
       "      <td>8.68</td>\n",
       "      <td>5650</td>\n",
       "      <td>6</td>\n",
       "      <td>46</td>\n",
       "      <td>37.94</td>\n",
       "      <td>150</td>\n",
       "    </tr>\n",
       "    <tr>\n",
       "      <th>75</th>\n",
       "      <td>April</td>\n",
       "      <td>30</td>\n",
       "      <td>21.12</td>\n",
       "      <td>5810</td>\n",
       "      <td>4</td>\n",
       "      <td>55</td>\n",
       "      <td>75.38</td>\n",
       "      <td>100</td>\n",
       "    </tr>\n",
       "    <tr>\n",
       "      <th>69</th>\n",
       "      <td>April</td>\n",
       "      <td>22</td>\n",
       "      <td>7.26</td>\n",
       "      <td>5660</td>\n",
       "      <td>6</td>\n",
       "      <td>58</td>\n",
       "      <td>51.26</td>\n",
       "      <td>120</td>\n",
       "    </tr>\n",
       "  </tbody>\n",
       "</table>\n",
       "</div>"
      ],
      "text/plain": [
       "       Month  Day_of_month  ozone_reading  pressure_height  Wind_speed  \\\n",
       "29  February            23           4.04             5690           7   \n",
       "42     March            12           7.63             5690           0   \n",
       "57     April             5           4.33             5540           5   \n",
       "27  February            18          12.77             5770           3   \n",
       "82       May            13          24.89             5890           6   \n",
       "71     April            26          12.23             5700           5   \n",
       "58     April             6           9.32             5590           6   \n",
       "73     April            28           8.68             5650           6   \n",
       "75     April            30          21.12             5810           4   \n",
       "69     April            22           7.26             5660           6   \n",
       "\n",
       "    Humidity  Inversion_temperature  Visibility  \n",
       "29        19                  49.10         300  \n",
       "42        60                  59.72         300  \n",
       "57        54                  33.44         200  \n",
       "27        82                  58.28          40  \n",
       "82        88                  86.00          20  \n",
       "71        41                  58.10          40  \n",
       "58        51                  42.08         300  \n",
       "73        46                  37.94         150  \n",
       "75        55                  75.38         100  \n",
       "69        58                  51.26         120  "
      ]
     },
     "execution_count": 19,
     "metadata": {},
     "output_type": "execute_result"
    }
   ],
   "source": [
    "ozone_reading = pd.read_csv('datasets/ozone_reading.csv')\n",
    "\n",
    "ozone_reading.sample(10)"
   ]
  },
  {
   "cell_type": "markdown",
   "metadata": {},
   "source": [
    "### Printing the shape"
   ]
  },
  {
   "cell_type": "code",
   "execution_count": 20,
   "metadata": {},
   "outputs": [
    {
     "data": {
      "text/plain": [
       "array(['January', 'February', 'March', 'April', 'May', 'June'],\n",
       "      dtype=object)"
      ]
     },
     "execution_count": 20,
     "metadata": {},
     "output_type": "execute_result"
    }
   ],
   "source": [
    "ozone_reading['Month'].unique()"
   ]
  },
  {
   "cell_type": "markdown",
   "metadata": {},
   "source": [
    "### Statistical summary"
   ]
  },
  {
   "cell_type": "code",
   "execution_count": 21,
   "metadata": {},
   "outputs": [
    {
     "data": {
      "text/html": [
       "<div>\n",
       "<style scoped>\n",
       "    .dataframe tbody tr th:only-of-type {\n",
       "        vertical-align: middle;\n",
       "    }\n",
       "\n",
       "    .dataframe tbody tr th {\n",
       "        vertical-align: top;\n",
       "    }\n",
       "\n",
       "    .dataframe thead th {\n",
       "        text-align: right;\n",
       "    }\n",
       "</style>\n",
       "<table border=\"1\" class=\"dataframe\">\n",
       "  <thead>\n",
       "    <tr style=\"text-align: right;\">\n",
       "      <th></th>\n",
       "      <th>Day_of_month</th>\n",
       "      <th>ozone_reading</th>\n",
       "      <th>pressure_height</th>\n",
       "      <th>Wind_speed</th>\n",
       "      <th>Humidity</th>\n",
       "      <th>Inversion_temperature</th>\n",
       "      <th>Visibility</th>\n",
       "    </tr>\n",
       "  </thead>\n",
       "  <tbody>\n",
       "    <tr>\n",
       "      <th>count</th>\n",
       "      <td>103.000000</td>\n",
       "      <td>103.000000</td>\n",
       "      <td>103.000000</td>\n",
       "      <td>103.000000</td>\n",
       "      <td>103.000000</td>\n",
       "      <td>103.000000</td>\n",
       "      <td>103.000000</td>\n",
       "    </tr>\n",
       "    <tr>\n",
       "      <th>mean</th>\n",
       "      <td>14.980583</td>\n",
       "      <td>10.254175</td>\n",
       "      <td>5696.796117</td>\n",
       "      <td>5.174757</td>\n",
       "      <td>56.786408</td>\n",
       "      <td>56.254563</td>\n",
       "      <td>137.368932</td>\n",
       "    </tr>\n",
       "    <tr>\n",
       "      <th>std</th>\n",
       "      <td>8.465594</td>\n",
       "      <td>7.076096</td>\n",
       "      <td>116.056220</td>\n",
       "      <td>1.997190</td>\n",
       "      <td>18.472370</td>\n",
       "      <td>14.482588</td>\n",
       "      <td>84.619910</td>\n",
       "    </tr>\n",
       "    <tr>\n",
       "      <th>min</th>\n",
       "      <td>1.000000</td>\n",
       "      <td>1.800000</td>\n",
       "      <td>5320.000000</td>\n",
       "      <td>0.000000</td>\n",
       "      <td>19.000000</td>\n",
       "      <td>27.500000</td>\n",
       "      <td>2.000000</td>\n",
       "    </tr>\n",
       "    <tr>\n",
       "      <th>25%</th>\n",
       "      <td>8.000000</td>\n",
       "      <td>4.815000</td>\n",
       "      <td>5645.000000</td>\n",
       "      <td>4.000000</td>\n",
       "      <td>46.000000</td>\n",
       "      <td>45.680000</td>\n",
       "      <td>75.000000</td>\n",
       "    </tr>\n",
       "    <tr>\n",
       "      <th>50%</th>\n",
       "      <td>14.000000</td>\n",
       "      <td>8.680000</td>\n",
       "      <td>5710.000000</td>\n",
       "      <td>5.000000</td>\n",
       "      <td>61.000000</td>\n",
       "      <td>56.300000</td>\n",
       "      <td>120.000000</td>\n",
       "    </tr>\n",
       "    <tr>\n",
       "      <th>75%</th>\n",
       "      <td>22.000000</td>\n",
       "      <td>13.530000</td>\n",
       "      <td>5770.000000</td>\n",
       "      <td>6.000000</td>\n",
       "      <td>70.500000</td>\n",
       "      <td>66.020000</td>\n",
       "      <td>200.000000</td>\n",
       "    </tr>\n",
       "    <tr>\n",
       "      <th>max</th>\n",
       "      <td>31.000000</td>\n",
       "      <td>33.040000</td>\n",
       "      <td>5890.000000</td>\n",
       "      <td>11.000000</td>\n",
       "      <td>92.000000</td>\n",
       "      <td>89.780000</td>\n",
       "      <td>350.000000</td>\n",
       "    </tr>\n",
       "  </tbody>\n",
       "</table>\n",
       "</div>"
      ],
      "text/plain": [
       "       Day_of_month  ozone_reading  pressure_height  Wind_speed    Humidity  \\\n",
       "count    103.000000     103.000000       103.000000  103.000000  103.000000   \n",
       "mean      14.980583      10.254175      5696.796117    5.174757   56.786408   \n",
       "std        8.465594       7.076096       116.056220    1.997190   18.472370   \n",
       "min        1.000000       1.800000      5320.000000    0.000000   19.000000   \n",
       "25%        8.000000       4.815000      5645.000000    4.000000   46.000000   \n",
       "50%       14.000000       8.680000      5710.000000    5.000000   61.000000   \n",
       "75%       22.000000      13.530000      5770.000000    6.000000   70.500000   \n",
       "max       31.000000      33.040000      5890.000000   11.000000   92.000000   \n",
       "\n",
       "       Inversion_temperature  Visibility  \n",
       "count             103.000000  103.000000  \n",
       "mean               56.254563  137.368932  \n",
       "std                14.482588   84.619910  \n",
       "min                27.500000    2.000000  \n",
       "25%                45.680000   75.000000  \n",
       "50%                56.300000  120.000000  \n",
       "75%                66.020000  200.000000  \n",
       "max                89.780000  350.000000  "
      ]
     },
     "execution_count": 21,
     "metadata": {},
     "output_type": "execute_result"
    }
   ],
   "source": [
    "ozone_reading.describe()"
   ]
  },
  {
   "cell_type": "markdown",
   "metadata": {},
   "source": [
    "### Correlation matrix"
   ]
  },
  {
   "cell_type": "code",
   "execution_count": 22,
   "metadata": {},
   "outputs": [
    {
     "data": {
      "text/html": [
       "<div>\n",
       "<style scoped>\n",
       "    .dataframe tbody tr th:only-of-type {\n",
       "        vertical-align: middle;\n",
       "    }\n",
       "\n",
       "    .dataframe tbody tr th {\n",
       "        vertical-align: top;\n",
       "    }\n",
       "\n",
       "    .dataframe thead th {\n",
       "        text-align: right;\n",
       "    }\n",
       "</style>\n",
       "<table border=\"1\" class=\"dataframe\">\n",
       "  <thead>\n",
       "    <tr style=\"text-align: right;\">\n",
       "      <th></th>\n",
       "      <th>Day_of_month</th>\n",
       "      <th>ozone_reading</th>\n",
       "      <th>pressure_height</th>\n",
       "      <th>Wind_speed</th>\n",
       "      <th>Humidity</th>\n",
       "      <th>Inversion_temperature</th>\n",
       "      <th>Visibility</th>\n",
       "    </tr>\n",
       "  </thead>\n",
       "  <tbody>\n",
       "    <tr>\n",
       "      <th>Day_of_month</th>\n",
       "      <td>1.000000</td>\n",
       "      <td>0.203160</td>\n",
       "      <td>0.399783</td>\n",
       "      <td>-0.261894</td>\n",
       "      <td>-0.290985</td>\n",
       "      <td>0.335565</td>\n",
       "      <td>0.017624</td>\n",
       "    </tr>\n",
       "    <tr>\n",
       "      <th>ozone_reading</th>\n",
       "      <td>0.203160</td>\n",
       "      <td>1.000000</td>\n",
       "      <td>0.612084</td>\n",
       "      <td>-0.199935</td>\n",
       "      <td>0.301309</td>\n",
       "      <td>0.727284</td>\n",
       "      <td>-0.431484</td>\n",
       "    </tr>\n",
       "    <tr>\n",
       "      <th>pressure_height</th>\n",
       "      <td>0.399783</td>\n",
       "      <td>0.612084</td>\n",
       "      <td>1.000000</td>\n",
       "      <td>-0.428993</td>\n",
       "      <td>-0.075138</td>\n",
       "      <td>0.864661</td>\n",
       "      <td>-0.354413</td>\n",
       "    </tr>\n",
       "    <tr>\n",
       "      <th>Wind_speed</th>\n",
       "      <td>-0.261894</td>\n",
       "      <td>-0.199935</td>\n",
       "      <td>-0.428993</td>\n",
       "      <td>1.000000</td>\n",
       "      <td>0.156480</td>\n",
       "      <td>-0.354135</td>\n",
       "      <td>0.175619</td>\n",
       "    </tr>\n",
       "    <tr>\n",
       "      <th>Humidity</th>\n",
       "      <td>-0.290985</td>\n",
       "      <td>0.301309</td>\n",
       "      <td>-0.075138</td>\n",
       "      <td>0.156480</td>\n",
       "      <td>1.000000</td>\n",
       "      <td>0.013196</td>\n",
       "      <td>-0.300960</td>\n",
       "    </tr>\n",
       "    <tr>\n",
       "      <th>Inversion_temperature</th>\n",
       "      <td>0.335565</td>\n",
       "      <td>0.727284</td>\n",
       "      <td>0.864661</td>\n",
       "      <td>-0.354135</td>\n",
       "      <td>0.013196</td>\n",
       "      <td>1.000000</td>\n",
       "      <td>-0.401133</td>\n",
       "    </tr>\n",
       "    <tr>\n",
       "      <th>Visibility</th>\n",
       "      <td>0.017624</td>\n",
       "      <td>-0.431484</td>\n",
       "      <td>-0.354413</td>\n",
       "      <td>0.175619</td>\n",
       "      <td>-0.300960</td>\n",
       "      <td>-0.401133</td>\n",
       "      <td>1.000000</td>\n",
       "    </tr>\n",
       "  </tbody>\n",
       "</table>\n",
       "</div>"
      ],
      "text/plain": [
       "                       Day_of_month  ozone_reading  pressure_height  \\\n",
       "Day_of_month               1.000000       0.203160         0.399783   \n",
       "ozone_reading              0.203160       1.000000         0.612084   \n",
       "pressure_height            0.399783       0.612084         1.000000   \n",
       "Wind_speed                -0.261894      -0.199935        -0.428993   \n",
       "Humidity                  -0.290985       0.301309        -0.075138   \n",
       "Inversion_temperature      0.335565       0.727284         0.864661   \n",
       "Visibility                 0.017624      -0.431484        -0.354413   \n",
       "\n",
       "                       Wind_speed  Humidity  Inversion_temperature  Visibility  \n",
       "Day_of_month            -0.261894 -0.290985               0.335565    0.017624  \n",
       "ozone_reading           -0.199935  0.301309               0.727284   -0.431484  \n",
       "pressure_height         -0.428993 -0.075138               0.864661   -0.354413  \n",
       "Wind_speed               1.000000  0.156480              -0.354135    0.175619  \n",
       "Humidity                 0.156480  1.000000               0.013196   -0.300960  \n",
       "Inversion_temperature   -0.354135  0.013196               1.000000   -0.401133  \n",
       "Visibility               0.175619 -0.300960              -0.401133    1.000000  "
      ]
     },
     "execution_count": 22,
     "metadata": {},
     "output_type": "execute_result"
    }
   ],
   "source": [
    "ozone_reading_correlation = ozone_reading.corr()\n",
    "\n",
    "ozone_reading_correlation"
   ]
  },
  {
   "cell_type": "markdown",
   "metadata": {},
   "source": [
    "### Visualizing correlation matrix"
   ]
  },
  {
   "cell_type": "code",
   "execution_count": 23,
   "metadata": {},
   "outputs": [
    {
     "data": {
      "image/png": "[encoded data removed]",
      "text/plain": [
       "<Figure size 864x504 with 2 Axes>"
      ]
     },
     "metadata": {
      "needs_background": "light"
     },
     "output_type": "display_data"
    }
   ],
   "source": [
    "fig, ax = plt.subplots(figsize=(12, 7))\n",
    "\n",
    "sns.heatmap(ozone_reading_correlation, \n",
    "            annot=True, \n",
    "            cmap='viridis')\n",
    "\n",
    "plt.show()"
   ]
  },
  {
   "cell_type": "markdown",
   "metadata": {},
   "source": [
    "### Creating a object of FeatureHasher"
   ]
  },
  {
   "cell_type": "code",
   "execution_count": 24,
   "metadata": {},
   "outputs": [],
   "source": [
    "fh = FeatureHasher(n_features=4, input_type='string')"
   ]
  },
  {
   "cell_type": "markdown",
   "metadata": {},
   "source": [
    "### Fitting and encoding the column"
   ]
  },
  {
   "cell_type": "code",
   "execution_count": 25,
   "metadata": {},
   "outputs": [],
   "source": [
    "hashed_features = fh.fit_transform(ozone_reading['Month'])"
   ]
  },
  {
   "cell_type": "markdown",
   "metadata": {},
   "source": [
    "### Printing the matrix as numpy array"
   ]
  },
  {
   "cell_type": "code",
   "execution_count": 26,
   "metadata": {},
   "outputs": [],
   "source": [
    "hashed_features = hashed_features.toarray()"
   ]
  },
  {
   "cell_type": "markdown",
   "metadata": {},
   "source": [
    "### The hashed Matrix"
   ]
  },
  {
   "cell_type": "code",
   "execution_count": 27,
   "metadata": {},
   "outputs": [
    {
     "data": {
      "text/plain": [
       "array([[0., 1., 3., 1.],\n",
       "       [0., 1., 3., 1.],\n",
       "       [0., 1., 3., 1.],\n",
       "       [0., 1., 3., 1.],\n",
       "       [0., 1., 3., 1.],\n",
       "       [0., 1., 3., 1.],\n",
       "       [0., 1., 3., 1.],\n",
       "       [0., 1., 3., 1.],\n",
       "       [0., 1., 3., 1.],\n",
       "       [0., 1., 3., 1.]])"
      ]
     },
     "execution_count": 27,
     "metadata": {},
     "output_type": "execute_result"
    }
   ],
   "source": [
    "hashed_features[:10]"
   ]
  },
  {
   "cell_type": "markdown",
   "metadata": {},
   "source": [
    "### Making a list to assign name to the hashed columns"
   ]
  },
  {
   "cell_type": "code",
   "execution_count": 28,
   "metadata": {},
   "outputs": [],
   "source": [
    "hashed_categories = ['month_hash_0', 'month_hash_1', 'month_hash_2', 'month_hash_3']"
   ]
  },
  {
   "cell_type": "markdown",
   "metadata": {},
   "source": [
    "### Printing the hashed columns along with the column name"
   ]
  },
  {
   "cell_type": "code",
   "execution_count": 29,
   "metadata": {},
   "outputs": [
    {
     "data": {
      "text/html": [
       "<div>\n",
       "<style scoped>\n",
       "    .dataframe tbody tr th:only-of-type {\n",
       "        vertical-align: middle;\n",
       "    }\n",
       "\n",
       "    .dataframe tbody tr th {\n",
       "        vertical-align: top;\n",
       "    }\n",
       "\n",
       "    .dataframe thead th {\n",
       "        text-align: right;\n",
       "    }\n",
       "</style>\n",
       "<table border=\"1\" class=\"dataframe\">\n",
       "  <thead>\n",
       "    <tr style=\"text-align: right;\">\n",
       "      <th></th>\n",
       "      <th>month_hash_0</th>\n",
       "      <th>month_hash_1</th>\n",
       "      <th>month_hash_2</th>\n",
       "      <th>month_hash_3</th>\n",
       "    </tr>\n",
       "  </thead>\n",
       "  <tbody>\n",
       "    <tr>\n",
       "      <th>75</th>\n",
       "      <td>1</td>\n",
       "      <td>0</td>\n",
       "      <td>0</td>\n",
       "      <td>0</td>\n",
       "    </tr>\n",
       "    <tr>\n",
       "      <th>29</th>\n",
       "      <td>1</td>\n",
       "      <td>1</td>\n",
       "      <td>1</td>\n",
       "      <td>1</td>\n",
       "    </tr>\n",
       "    <tr>\n",
       "      <th>20</th>\n",
       "      <td>1</td>\n",
       "      <td>1</td>\n",
       "      <td>1</td>\n",
       "      <td>1</td>\n",
       "    </tr>\n",
       "    <tr>\n",
       "      <th>41</th>\n",
       "      <td>0</td>\n",
       "      <td>-1</td>\n",
       "      <td>2</td>\n",
       "      <td>0</td>\n",
       "    </tr>\n",
       "    <tr>\n",
       "      <th>86</th>\n",
       "      <td>0</td>\n",
       "      <td>0</td>\n",
       "      <td>0</td>\n",
       "      <td>2</td>\n",
       "    </tr>\n",
       "    <tr>\n",
       "      <th>61</th>\n",
       "      <td>1</td>\n",
       "      <td>0</td>\n",
       "      <td>0</td>\n",
       "      <td>0</td>\n",
       "    </tr>\n",
       "    <tr>\n",
       "      <th>96</th>\n",
       "      <td>0</td>\n",
       "      <td>0</td>\n",
       "      <td>0</td>\n",
       "      <td>2</td>\n",
       "    </tr>\n",
       "    <tr>\n",
       "      <th>6</th>\n",
       "      <td>0</td>\n",
       "      <td>1</td>\n",
       "      <td>3</td>\n",
       "      <td>1</td>\n",
       "    </tr>\n",
       "    <tr>\n",
       "      <th>67</th>\n",
       "      <td>1</td>\n",
       "      <td>0</td>\n",
       "      <td>0</td>\n",
       "      <td>0</td>\n",
       "    </tr>\n",
       "    <tr>\n",
       "      <th>24</th>\n",
       "      <td>1</td>\n",
       "      <td>1</td>\n",
       "      <td>1</td>\n",
       "      <td>1</td>\n",
       "    </tr>\n",
       "  </tbody>\n",
       "</table>\n",
       "</div>"
      ],
      "text/plain": [
       "    month_hash_0  month_hash_1  month_hash_2  month_hash_3\n",
       "75             1             0             0             0\n",
       "29             1             1             1             1\n",
       "20             1             1             1             1\n",
       "41             0            -1             2             0\n",
       "86             0             0             0             2\n",
       "61             1             0             0             0\n",
       "96             0             0             0             2\n",
       "6              0             1             3             1\n",
       "67             1             0             0             0\n",
       "24             1             1             1             1"
      ]
     },
     "execution_count": 29,
     "metadata": {},
     "output_type": "execute_result"
    }
   ],
   "source": [
    "hashed_df = pd.DataFrame(hashed_features, \n",
    "                         columns = hashed_categories,\n",
    "                        dtype=np.int)\n",
    "\n",
    "hashed_df.sample(10)"
   ]
  },
  {
   "cell_type": "markdown",
   "metadata": {},
   "source": [
    "### Concating the hashed columns with the dataset"
   ]
  },
  {
   "cell_type": "code",
   "execution_count": 30,
   "metadata": {},
   "outputs": [
    {
     "data": {
      "text/html": [
       "<div>\n",
       "<style scoped>\n",
       "    .dataframe tbody tr th:only-of-type {\n",
       "        vertical-align: middle;\n",
       "    }\n",
       "\n",
       "    .dataframe tbody tr th {\n",
       "        vertical-align: top;\n",
       "    }\n",
       "\n",
       "    .dataframe thead th {\n",
       "        text-align: right;\n",
       "    }\n",
       "</style>\n",
       "<table border=\"1\" class=\"dataframe\">\n",
       "  <thead>\n",
       "    <tr style=\"text-align: right;\">\n",
       "      <th></th>\n",
       "      <th>Month</th>\n",
       "      <th>Day_of_month</th>\n",
       "      <th>ozone_reading</th>\n",
       "      <th>pressure_height</th>\n",
       "      <th>Wind_speed</th>\n",
       "      <th>Humidity</th>\n",
       "      <th>Inversion_temperature</th>\n",
       "      <th>Visibility</th>\n",
       "      <th>month_hash_0</th>\n",
       "      <th>month_hash_1</th>\n",
       "      <th>month_hash_2</th>\n",
       "      <th>month_hash_3</th>\n",
       "    </tr>\n",
       "  </thead>\n",
       "  <tbody>\n",
       "    <tr>\n",
       "      <th>95</th>\n",
       "      <td>June</td>\n",
       "      <td>15</td>\n",
       "      <td>26.89</td>\n",
       "      <td>5880</td>\n",
       "      <td>6</td>\n",
       "      <td>67</td>\n",
       "      <td>82.58</td>\n",
       "      <td>30</td>\n",
       "      <td>0</td>\n",
       "      <td>0</td>\n",
       "      <td>0</td>\n",
       "      <td>2</td>\n",
       "    </tr>\n",
       "    <tr>\n",
       "      <th>81</th>\n",
       "      <td>May</td>\n",
       "      <td>12</td>\n",
       "      <td>33.04</td>\n",
       "      <td>5880</td>\n",
       "      <td>3</td>\n",
       "      <td>80</td>\n",
       "      <td>86.36</td>\n",
       "      <td>40</td>\n",
       "      <td>0</td>\n",
       "      <td>0</td>\n",
       "      <td>3</td>\n",
       "      <td>0</td>\n",
       "    </tr>\n",
       "    <tr>\n",
       "      <th>88</th>\n",
       "      <td>June</td>\n",
       "      <td>4</td>\n",
       "      <td>16.15</td>\n",
       "      <td>5730</td>\n",
       "      <td>6</td>\n",
       "      <td>64</td>\n",
       "      <td>60.98</td>\n",
       "      <td>100</td>\n",
       "      <td>0</td>\n",
       "      <td>0</td>\n",
       "      <td>0</td>\n",
       "      <td>2</td>\n",
       "    </tr>\n",
       "    <tr>\n",
       "      <th>49</th>\n",
       "      <td>March</td>\n",
       "      <td>23</td>\n",
       "      <td>10.18</td>\n",
       "      <td>5710</td>\n",
       "      <td>5</td>\n",
       "      <td>77</td>\n",
       "      <td>60.44</td>\n",
       "      <td>250</td>\n",
       "      <td>0</td>\n",
       "      <td>-1</td>\n",
       "      <td>2</td>\n",
       "      <td>0</td>\n",
       "    </tr>\n",
       "    <tr>\n",
       "      <th>17</th>\n",
       "      <td>February</td>\n",
       "      <td>2</td>\n",
       "      <td>12.28</td>\n",
       "      <td>5770</td>\n",
       "      <td>8</td>\n",
       "      <td>76</td>\n",
       "      <td>66.20</td>\n",
       "      <td>6</td>\n",
       "      <td>1</td>\n",
       "      <td>1</td>\n",
       "      <td>1</td>\n",
       "      <td>1</td>\n",
       "    </tr>\n",
       "    <tr>\n",
       "      <th>35</th>\n",
       "      <td>March</td>\n",
       "      <td>2</td>\n",
       "      <td>3.22</td>\n",
       "      <td>5470</td>\n",
       "      <td>7</td>\n",
       "      <td>46</td>\n",
       "      <td>29.30</td>\n",
       "      <td>300</td>\n",
       "      <td>0</td>\n",
       "      <td>-1</td>\n",
       "      <td>2</td>\n",
       "      <td>0</td>\n",
       "    </tr>\n",
       "    <tr>\n",
       "      <th>15</th>\n",
       "      <td>January</td>\n",
       "      <td>29</td>\n",
       "      <td>5.68</td>\n",
       "      <td>5810</td>\n",
       "      <td>5</td>\n",
       "      <td>19</td>\n",
       "      <td>64.76</td>\n",
       "      <td>150</td>\n",
       "      <td>0</td>\n",
       "      <td>1</td>\n",
       "      <td>3</td>\n",
       "      <td>1</td>\n",
       "    </tr>\n",
       "    <tr>\n",
       "      <th>30</th>\n",
       "      <td>February</td>\n",
       "      <td>24</td>\n",
       "      <td>6.04</td>\n",
       "      <td>5640</td>\n",
       "      <td>5</td>\n",
       "      <td>68</td>\n",
       "      <td>42.08</td>\n",
       "      <td>300</td>\n",
       "      <td>1</td>\n",
       "      <td>1</td>\n",
       "      <td>1</td>\n",
       "      <td>1</td>\n",
       "    </tr>\n",
       "    <tr>\n",
       "      <th>54</th>\n",
       "      <td>March</td>\n",
       "      <td>31</td>\n",
       "      <td>12.33</td>\n",
       "      <td>5710</td>\n",
       "      <td>3</td>\n",
       "      <td>46</td>\n",
       "      <td>62.96</td>\n",
       "      <td>300</td>\n",
       "      <td>0</td>\n",
       "      <td>-1</td>\n",
       "      <td>2</td>\n",
       "      <td>0</td>\n",
       "    </tr>\n",
       "    <tr>\n",
       "      <th>33</th>\n",
       "      <td>February</td>\n",
       "      <td>27</td>\n",
       "      <td>22.89</td>\n",
       "      <td>5740</td>\n",
       "      <td>3</td>\n",
       "      <td>47</td>\n",
       "      <td>67.10</td>\n",
       "      <td>80</td>\n",
       "      <td>1</td>\n",
       "      <td>1</td>\n",
       "      <td>1</td>\n",
       "      <td>1</td>\n",
       "    </tr>\n",
       "  </tbody>\n",
       "</table>\n",
       "</div>"
      ],
      "text/plain": [
       "       Month  Day_of_month  ozone_reading  pressure_height  Wind_speed  \\\n",
       "95      June            15          26.89             5880           6   \n",
       "81       May            12          33.04             5880           3   \n",
       "88      June             4          16.15             5730           6   \n",
       "49     March            23          10.18             5710           5   \n",
       "17  February             2          12.28             5770           8   \n",
       "35     March             2           3.22             5470           7   \n",
       "15   January            29           5.68             5810           5   \n",
       "30  February            24           6.04             5640           5   \n",
       "54     March            31          12.33             5710           3   \n",
       "33  February            27          22.89             5740           3   \n",
       "\n",
       "    Humidity  Inversion_temperature  Visibility  month_hash_0  month_hash_1  \\\n",
       "95        67                  82.58          30             0             0   \n",
       "81        80                  86.36          40             0             0   \n",
       "88        64                  60.98         100             0             0   \n",
       "49        77                  60.44         250             0            -1   \n",
       "17        76                  66.20           6             1             1   \n",
       "35        46                  29.30         300             0            -1   \n",
       "15        19                  64.76         150             0             1   \n",
       "30        68                  42.08         300             1             1   \n",
       "54        46                  62.96         300             0            -1   \n",
       "33        47                  67.10          80             1             1   \n",
       "\n",
       "    month_hash_2  month_hash_3  \n",
       "95             0             2  \n",
       "81             3             0  \n",
       "88             0             2  \n",
       "49             2             0  \n",
       "17             1             1  \n",
       "35             2             0  \n",
       "15             3             1  \n",
       "30             1             1  \n",
       "54             2             0  \n",
       "33             1             1  "
      ]
     },
     "execution_count": 30,
     "metadata": {},
     "output_type": "execute_result"
    }
   ],
   "source": [
    "hashed_ozone_reading = pd.concat([ozone_reading, hashed_df], axis=1)\n",
    "\n",
    "hashed_ozone_reading.sample(10)"
   ]
  },
  {
   "cell_type": "markdown",
   "metadata": {},
   "source": [
    "### Deleting the column `Month` as the hashed format of this column will be used"
   ]
  },
  {
   "cell_type": "code",
   "execution_count": 31,
   "metadata": {},
   "outputs": [],
   "source": [
    "hashed_ozone_reading.drop(columns=['Month'], inplace=True)"
   ]
  },
  {
   "cell_type": "markdown",
   "metadata": {},
   "source": [
    "### Spliting the dataset"
   ]
  },
  {
   "cell_type": "code",
   "execution_count": 32,
   "metadata": {},
   "outputs": [],
   "source": [
    "X = hashed_ozone_reading.drop('ozone_reading', axis=1)\n",
    "y = hashed_ozone_reading.ozone_reading"
   ]
  },
  {
   "cell_type": "code",
   "execution_count": 33,
   "metadata": {},
   "outputs": [
    {
     "data": {
      "text/html": [
       "<div>\n",
       "<style scoped>\n",
       "    .dataframe tbody tr th:only-of-type {\n",
       "        vertical-align: middle;\n",
       "    }\n",
       "\n",
       "    .dataframe tbody tr th {\n",
       "        vertical-align: top;\n",
       "    }\n",
       "\n",
       "    .dataframe thead th {\n",
       "        text-align: right;\n",
       "    }\n",
       "</style>\n",
       "<table border=\"1\" class=\"dataframe\">\n",
       "  <thead>\n",
       "    <tr style=\"text-align: right;\">\n",
       "      <th></th>\n",
       "      <th>Day_of_month</th>\n",
       "      <th>pressure_height</th>\n",
       "      <th>Wind_speed</th>\n",
       "      <th>Humidity</th>\n",
       "      <th>Inversion_temperature</th>\n",
       "      <th>Visibility</th>\n",
       "      <th>month_hash_0</th>\n",
       "      <th>month_hash_1</th>\n",
       "      <th>month_hash_2</th>\n",
       "      <th>month_hash_3</th>\n",
       "    </tr>\n",
       "  </thead>\n",
       "  <tbody>\n",
       "    <tr>\n",
       "      <th>72</th>\n",
       "      <td>27</td>\n",
       "      <td>5620</td>\n",
       "      <td>9</td>\n",
       "      <td>47</td>\n",
       "      <td>38.30</td>\n",
       "      <td>140</td>\n",
       "      <td>1</td>\n",
       "      <td>0</td>\n",
       "      <td>0</td>\n",
       "      <td>0</td>\n",
       "    </tr>\n",
       "    <tr>\n",
       "      <th>79</th>\n",
       "      <td>10</td>\n",
       "      <td>5760</td>\n",
       "      <td>7</td>\n",
       "      <td>78</td>\n",
       "      <td>68.72</td>\n",
       "      <td>80</td>\n",
       "      <td>0</td>\n",
       "      <td>0</td>\n",
       "      <td>3</td>\n",
       "      <td>0</td>\n",
       "    </tr>\n",
       "    <tr>\n",
       "      <th>16</th>\n",
       "      <td>30</td>\n",
       "      <td>5790</td>\n",
       "      <td>3</td>\n",
       "      <td>28</td>\n",
       "      <td>65.84</td>\n",
       "      <td>120</td>\n",
       "      <td>0</td>\n",
       "      <td>1</td>\n",
       "      <td>3</td>\n",
       "      <td>1</td>\n",
       "    </tr>\n",
       "    <tr>\n",
       "      <th>94</th>\n",
       "      <td>14</td>\n",
       "      <td>5830</td>\n",
       "      <td>4</td>\n",
       "      <td>71</td>\n",
       "      <td>77.90</td>\n",
       "      <td>60</td>\n",
       "      <td>0</td>\n",
       "      <td>0</td>\n",
       "      <td>0</td>\n",
       "      <td>2</td>\n",
       "    </tr>\n",
       "    <tr>\n",
       "      <th>19</th>\n",
       "      <td>4</td>\n",
       "      <td>5590</td>\n",
       "      <td>3</td>\n",
       "      <td>76</td>\n",
       "      <td>37.94</td>\n",
       "      <td>100</td>\n",
       "      <td>1</td>\n",
       "      <td>1</td>\n",
       "      <td>1</td>\n",
       "      <td>1</td>\n",
       "    </tr>\n",
       "    <tr>\n",
       "      <th>52</th>\n",
       "      <td>29</td>\n",
       "      <td>5690</td>\n",
       "      <td>7</td>\n",
       "      <td>70</td>\n",
       "      <td>53.60</td>\n",
       "      <td>200</td>\n",
       "      <td>0</td>\n",
       "      <td>-1</td>\n",
       "      <td>2</td>\n",
       "      <td>0</td>\n",
       "    </tr>\n",
       "    <tr>\n",
       "      <th>45</th>\n",
       "      <td>17</td>\n",
       "      <td>5760</td>\n",
       "      <td>3</td>\n",
       "      <td>60</td>\n",
       "      <td>66.56</td>\n",
       "      <td>70</td>\n",
       "      <td>0</td>\n",
       "      <td>-1</td>\n",
       "      <td>2</td>\n",
       "      <td>0</td>\n",
       "    </tr>\n",
       "    <tr>\n",
       "      <th>10</th>\n",
       "      <td>19</td>\n",
       "      <td>5680</td>\n",
       "      <td>5</td>\n",
       "      <td>73</td>\n",
       "      <td>69.80</td>\n",
       "      <td>10</td>\n",
       "      <td>0</td>\n",
       "      <td>1</td>\n",
       "      <td>3</td>\n",
       "      <td>1</td>\n",
       "    </tr>\n",
       "    <tr>\n",
       "      <th>75</th>\n",
       "      <td>30</td>\n",
       "      <td>5810</td>\n",
       "      <td>4</td>\n",
       "      <td>55</td>\n",
       "      <td>75.38</td>\n",
       "      <td>100</td>\n",
       "      <td>1</td>\n",
       "      <td>0</td>\n",
       "      <td>0</td>\n",
       "      <td>0</td>\n",
       "    </tr>\n",
       "    <tr>\n",
       "      <th>12</th>\n",
       "      <td>22</td>\n",
       "      <td>5730</td>\n",
       "      <td>4</td>\n",
       "      <td>26</td>\n",
       "      <td>51.98</td>\n",
       "      <td>200</td>\n",
       "      <td>0</td>\n",
       "      <td>1</td>\n",
       "      <td>3</td>\n",
       "      <td>1</td>\n",
       "    </tr>\n",
       "  </tbody>\n",
       "</table>\n",
       "</div>"
      ],
      "text/plain": [
       "    Day_of_month  pressure_height  Wind_speed  Humidity  \\\n",
       "72            27             5620           9        47   \n",
       "79            10             5760           7        78   \n",
       "16            30             5790           3        28   \n",
       "94            14             5830           4        71   \n",
       "19             4             5590           3        76   \n",
       "52            29             5690           7        70   \n",
       "45            17             5760           3        60   \n",
       "10            19             5680           5        73   \n",
       "75            30             5810           4        55   \n",
       "12            22             5730           4        26   \n",
       "\n",
       "    Inversion_temperature  Visibility  month_hash_0  month_hash_1  \\\n",
       "72                  38.30         140             1             0   \n",
       "79                  68.72          80             0             0   \n",
       "16                  65.84         120             0             1   \n",
       "94                  77.90          60             0             0   \n",
       "19                  37.94         100             1             1   \n",
       "52                  53.60         200             0            -1   \n",
       "45                  66.56          70             0            -1   \n",
       "10                  69.80          10             0             1   \n",
       "75                  75.38         100             1             0   \n",
       "12                  51.98         200             0             1   \n",
       "\n",
       "    month_hash_2  month_hash_3  \n",
       "72             0             0  \n",
       "79             3             0  \n",
       "16             3             1  \n",
       "94             0             2  \n",
       "19             1             1  \n",
       "52             2             0  \n",
       "45             2             0  \n",
       "10             3             1  \n",
       "75             0             0  \n",
       "12             3             1  "
      ]
     },
     "execution_count": 33,
     "metadata": {},
     "output_type": "execute_result"
    }
   ],
   "source": [
    "X.sample(10)"
   ]
  },
  {
   "cell_type": "code",
   "execution_count": 34,
   "metadata": {},
   "outputs": [
    {
     "data": {
      "text/plain": [
       "38      7.19\n",
       "100    19.93\n",
       "55      7.93\n",
       "58      9.32\n",
       "51      8.90\n",
       "21      2.74\n",
       "97     10.77\n",
       "84      8.68\n",
       "25      5.80\n",
       "76     11.30\n",
       "Name: ozone_reading, dtype: float64"
      ]
     },
     "execution_count": 34,
     "metadata": {},
     "output_type": "execute_result"
    }
   ],
   "source": [
    "y.sample(10)"
   ]
  },
  {
   "cell_type": "markdown",
   "metadata": {},
   "source": [
    "### Importing sklearn linear regression model\n",
    "https://scikit-learn.org/stable/modules/generated/sklearn.linear_model.LinearRegression.html"
   ]
  },
  {
   "cell_type": "markdown",
   "metadata": {},
   "source": [
    "### Creating a object of the `Linear Regression class`"
   ]
  },
  {
   "cell_type": "code",
   "execution_count": 35,
   "metadata": {},
   "outputs": [],
   "source": [
    "from sklearn.linear_model import LinearRegression"
   ]
  },
  {
   "cell_type": "markdown",
   "metadata": {},
   "source": [
    "### Creating and training model"
   ]
  },
  {
   "cell_type": "code",
   "execution_count": 36,
   "metadata": {},
   "outputs": [
    {
     "name": "stdout",
     "output_type": "stream",
     "text": [
      "Training score 0.7115996610285058\n"
     ]
    }
   ],
   "source": [
    "linear_model = LinearRegression()\n",
    "\n",
    "linear_model.fit(X, y)\n",
    "\n",
    "print('Training score', linear_model.score(X, y))"
   ]
  },
  {
   "cell_type": "code",
   "execution_count": 37,
   "metadata": {},
   "outputs": [
    {
     "data": {
      "text/plain": [
       "array([-0.04483166,  0.01323269,  0.10941852,  0.07175265,  0.32567416,\n",
       "       -0.00569076,  4.85695496, -3.51166874,  0.10850361,  0.430177  ])"
      ]
     },
     "execution_count": 37,
     "metadata": {},
     "output_type": "execute_result"
    }
   ],
   "source": [
    "linear_model.coef_"
   ]
  },
  {
   "cell_type": "code",
   "execution_count": 38,
   "metadata": {},
   "outputs": [
    {
     "data": {
      "text/plain": [
       "-88.4180019809325"
      ]
     },
     "execution_count": 38,
     "metadata": {},
     "output_type": "execute_result"
    }
   ],
   "source": [
    "linear_model.intercept_"
   ]
  },
  {
   "cell_type": "code",
   "execution_count": 39,
   "metadata": {},
   "outputs": [
    {
     "data": {
      "text/html": [
       "<table class=\"simpletable\">\n",
       "<caption>OLS Regression Results</caption>\n",
       "<tr>\n",
       "  <th>Dep. Variable:</th>      <td>ozone_reading</td>  <th>  R-squared:         </th> <td>   0.712</td>\n",
       "</tr>\n",
       "<tr>\n",
       "  <th>Model:</th>                   <td>OLS</td>       <th>  Adj. R-squared:    </th> <td>   0.680</td>\n",
       "</tr>\n",
       "<tr>\n",
       "  <th>Method:</th>             <td>Least Squares</td>  <th>  F-statistic:       </th> <td>   22.70</td>\n",
       "</tr>\n",
       "<tr>\n",
       "  <th>Date:</th>             <td>Tue, 28 Jul 2020</td> <th>  Prob (F-statistic):</th> <td>8.83e-21</td>\n",
       "</tr>\n",
       "<tr>\n",
       "  <th>Time:</th>                 <td>17:55:15</td>     <th>  Log-Likelihood:    </th> <td> -283.16</td>\n",
       "</tr>\n",
       "<tr>\n",
       "  <th>No. Observations:</th>      <td>   103</td>      <th>  AIC:               </th> <td>   588.3</td>\n",
       "</tr>\n",
       "<tr>\n",
       "  <th>Df Residuals:</th>          <td>    92</td>      <th>  BIC:               </th> <td>   617.3</td>\n",
       "</tr>\n",
       "<tr>\n",
       "  <th>Df Model:</th>              <td>    10</td>      <th>                     </th>     <td> </td>   \n",
       "</tr>\n",
       "<tr>\n",
       "  <th>Covariance Type:</th>      <td>nonrobust</td>    <th>                     </th>     <td> </td>   \n",
       "</tr>\n",
       "</table>\n",
       "<table class=\"simpletable\">\n",
       "<tr>\n",
       "            <td></td>               <th>coef</th>     <th>std err</th>      <th>t</th>      <th>P>|t|</th>  <th>[0.025</th>    <th>0.975]</th>  \n",
       "</tr>\n",
       "<tr>\n",
       "  <th>const</th>                 <td>  -88.4180</td> <td>   41.954</td> <td>   -2.108</td> <td> 0.038</td> <td> -171.742</td> <td>   -5.094</td>\n",
       "</tr>\n",
       "<tr>\n",
       "  <th>Day_of_month</th>          <td>   -0.0448</td> <td>    0.058</td> <td>   -0.778</td> <td> 0.439</td> <td>   -0.159</td> <td>    0.070</td>\n",
       "</tr>\n",
       "<tr>\n",
       "  <th>pressure_height</th>       <td>    0.0132</td> <td>    0.008</td> <td>    1.733</td> <td> 0.086</td> <td>   -0.002</td> <td>    0.028</td>\n",
       "</tr>\n",
       "<tr>\n",
       "  <th>Wind_speed</th>            <td>    0.1094</td> <td>    0.227</td> <td>    0.482</td> <td> 0.631</td> <td>   -0.342</td> <td>    0.561</td>\n",
       "</tr>\n",
       "<tr>\n",
       "  <th>Humidity</th>              <td>    0.0718</td> <td>    0.025</td> <td>    2.834</td> <td> 0.006</td> <td>    0.021</td> <td>    0.122</td>\n",
       "</tr>\n",
       "<tr>\n",
       "  <th>Inversion_temperature</th> <td>    0.3257</td> <td>    0.057</td> <td>    5.742</td> <td> 0.000</td> <td>    0.213</td> <td>    0.438</td>\n",
       "</tr>\n",
       "<tr>\n",
       "  <th>Visibility</th>            <td>   -0.0057</td> <td>    0.006</td> <td>   -1.021</td> <td> 0.310</td> <td>   -0.017</td> <td>    0.005</td>\n",
       "</tr>\n",
       "<tr>\n",
       "  <th>month_hash_0</th>          <td>    4.8570</td> <td>    3.478</td> <td>    1.397</td> <td> 0.166</td> <td>   -2.050</td> <td>   11.764</td>\n",
       "</tr>\n",
       "<tr>\n",
       "  <th>month_hash_1</th>          <td>   -3.5117</td> <td>    1.937</td> <td>   -1.813</td> <td> 0.073</td> <td>   -7.359</td> <td>    0.336</td>\n",
       "</tr>\n",
       "<tr>\n",
       "  <th>month_hash_2</th>          <td>    0.1085</td> <td>    1.174</td> <td>    0.092</td> <td> 0.927</td> <td>   -2.223</td> <td>    2.440</td>\n",
       "</tr>\n",
       "<tr>\n",
       "  <th>month_hash_3</th>          <td>    0.4302</td> <td>    1.828</td> <td>    0.235</td> <td> 0.814</td> <td>   -3.200</td> <td>    4.060</td>\n",
       "</tr>\n",
       "</table>\n",
       "<table class=\"simpletable\">\n",
       "<tr>\n",
       "  <th>Omnibus:</th>       <td> 3.013</td> <th>  Durbin-Watson:     </th> <td>   1.793</td>\n",
       "</tr>\n",
       "<tr>\n",
       "  <th>Prob(Omnibus):</th> <td> 0.222</td> <th>  Jarque-Bera (JB):  </th> <td>   2.416</td>\n",
       "</tr>\n",
       "<tr>\n",
       "  <th>Skew:</th>          <td> 0.349</td> <th>  Prob(JB):          </th> <td>   0.299</td>\n",
       "</tr>\n",
       "<tr>\n",
       "  <th>Kurtosis:</th>      <td> 3.277</td> <th>  Cond. No.          </th> <td>6.07e+05</td>\n",
       "</tr>\n",
       "</table><br/><br/>Warnings:<br/>[1] Standard Errors assume that the covariance matrix of the errors is correctly specified.<br/>[2] The condition number is large, 6.07e+05. This might indicate that there are<br/>strong multicollinearity or other numerical problems."
      ],
      "text/plain": [
       "<class 'statsmodels.iolib.summary.Summary'>\n",
       "\"\"\"\n",
       "                            OLS Regression Results                            \n",
       "==============================================================================\n",
       "Dep. Variable:          ozone_reading   R-squared:                       0.712\n",
       "Model:                            OLS   Adj. R-squared:                  0.680\n",
       "Method:                 Least Squares   F-statistic:                     22.70\n",
       "Date:                Tue, 28 Jul 2020   Prob (F-statistic):           8.83e-21\n",
       "Time:                        17:55:15   Log-Likelihood:                -283.16\n",
       "No. Observations:                 103   AIC:                             588.3\n",
       "Df Residuals:                      92   BIC:                             617.3\n",
       "Df Model:                          10                                         \n",
       "Covariance Type:            nonrobust                                         \n",
       "=========================================================================================\n",
       "                            coef    std err          t      P>|t|      [0.025      0.975]\n",
       "-----------------------------------------------------------------------------------------\n",
       "const                   -88.4180     41.954     -2.108      0.038    -171.742      -5.094\n",
       "Day_of_month             -0.0448      0.058     -0.778      0.439      -0.159       0.070\n",
       "pressure_height           0.0132      0.008      1.733      0.086      -0.002       0.028\n",
       "Wind_speed                0.1094      0.227      0.482      0.631      -0.342       0.561\n",
       "Humidity                  0.0718      0.025      2.834      0.006       0.021       0.122\n",
       "Inversion_temperature     0.3257      0.057      5.742      0.000       0.213       0.438\n",
       "Visibility               -0.0057      0.006     -1.021      0.310      -0.017       0.005\n",
       "month_hash_0              4.8570      3.478      1.397      0.166      -2.050      11.764\n",
       "month_hash_1             -3.5117      1.937     -1.813      0.073      -7.359       0.336\n",
       "month_hash_2              0.1085      1.174      0.092      0.927      -2.223       2.440\n",
       "month_hash_3              0.4302      1.828      0.235      0.814      -3.200       4.060\n",
       "==============================================================================\n",
       "Omnibus:                        3.013   Durbin-Watson:                   1.793\n",
       "Prob(Omnibus):                  0.222   Jarque-Bera (JB):                2.416\n",
       "Skew:                           0.349   Prob(JB):                        0.299\n",
       "Kurtosis:                       3.277   Cond. No.                     6.07e+05\n",
       "==============================================================================\n",
       "\n",
       "Warnings:\n",
       "[1] Standard Errors assume that the covariance matrix of the errors is correctly specified.\n",
       "[2] The condition number is large, 6.07e+05. This might indicate that there are\n",
       "strong multicollinearity or other numerical problems.\n",
       "\"\"\""
      ]
     },
     "execution_count": 39,
     "metadata": {},
     "output_type": "execute_result"
    }
   ],
   "source": [
    "import statsmodels.api as sm\n",
    "\n",
    "X_with_constant = sm.add_constant(X)\n",
    "\n",
    "mod = sm.OLS(y, X_with_constant)\n",
    "\n",
    "res = mod.fit()\n",
    "\n",
    "res.summary()"
   ]
  },
  {
   "cell_type": "code",
   "execution_count": null,
   "metadata": {},
   "outputs": [],
   "source": []
  }
 ],
 "metadata": {
  "kernelspec": {
   "display_name": "Python 3",
   "language": "python",
   "name": "python3"
  },
  "language_info": {
   "codemirror_mode": {
    "name": "ipython",
    "version": 3
   },
   "file_extension": ".py",
   "mimetype": "text/x-python",
   "name": "python",
   "nbconvert_exporter": "python",
   "pygments_lexer": "ipython3",
   "version": "3.7.6"
  }
 },
 "nbformat": 4,
 "nbformat_minor": 2
}
